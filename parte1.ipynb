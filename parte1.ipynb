{
 "cells": [
  {
   "cell_type": "markdown",
   "metadata": {},
   "source": [
    "# Lectura de datasets y preprocesado"
   ]
  },
  {
   "cell_type": "markdown",
   "metadata": {},
   "source": [
    "--------------------------------------------------------------------------\n",
    "## Contenido\n",
    "0. <a href=\"#import\"> Instalaciones e importaciones necesarias  </a> <br>\n",
    "\n",
    "1. <a href=\"#pandas\"> Lectura y representación de datasets con Pandas  </a> <br>\n",
    "\n",
    "    1.1. <a href=\"#datasets_pandas\"> Dataframes de Pandas  </a> <br>\n",
    "    1.2. <a href=\"#lectura_pandas\"> Lectura de datasets  </a> <br>\n",
    "    1.3. <a href=\"#transform\"> Transformaciones  </a> <br>\n",
    "    1.4. <a href=\"#codificacion\"> Codificación de atributos discretos  </a> <br>\n",
    "    1.5. <a href=\"#nans\"> Tratamiento de valores ausentes  </a> <br>    \n",
    "\n",
    "2. <a href=\"#training\">Entrenamiento de modelos </a> <br>\n",
    "    2.1. <a href=\"#regression\">Entrenamiento regresion  </a> <br>\n",
    "    2.2. <a href=\"#classification\">Entrenamiento clasificacion </a> <br>\n",
    "\n",
    "    \n",
    "-------------------------------------------------"
   ]
  },
  {
   "cell_type": "markdown",
   "metadata": {},
   "source": [
    "## 0. Instalaciones e importaciones necesarias <a name=\"import\"> </a>"
   ]
  },
  {
   "cell_type": "code",
   "execution_count": null,
   "metadata": {},
   "outputs": [],
   "source": [
    "%pip install numpy\n",
    "%pip install pandas\n",
    "%pip install scikit-learn\n",
    "%pip install matplotlib\n",
    "%pip install seaborn"
   ]
  },
  {
   "cell_type": "code",
   "execution_count": 1,
   "metadata": {},
   "outputs": [],
   "source": [
    "import numpy as np\n",
    "import pandas as pd\n",
    "import matplotlib.pyplot as plt\n",
    "import seaborn as sns\n",
    "import pickle\n",
    "\n",
    "from sklearn.model_selection import train_test_split, cross_val_predict, cross_val_score\n",
    "from sklearn.linear_model import LogisticRegression\n",
    "from sklearn.linear_model import LinearRegression\n",
    "from sklearn import metrics"
   ]
  },
  {
   "cell_type": "markdown",
   "metadata": {},
   "source": [
    "## 1. Lectura y representación de datasets con Pandas <a name=\"pandas\"> </a>"
   ]
  },
  {
   "cell_type": "markdown",
   "metadata": {},
   "source": [
    "### 1.1. Dataframes de Pandas <a name=\"datasets_pandas\"> </a>"
   ]
  },
  {
   "cell_type": "markdown",
   "metadata": {},
   "source": [
    "Pandas es una herramienta que nos facilita la lectura de archivos del tipo excel o csv. Para los que no los conozcan los archivos csv (Comma Separate Value) como su nombre indica son archivo en los que los valores están separados por coma (habitualmente). Estos pueden ser representados en forma de tablas, como generalmente vemos en excel. Podéis echarle un ojo a los archivos titanic.csv y concrete.csv para familiarizaros con el formato."
   ]
  },
  {
   "cell_type": "markdown",
   "metadata": {},
   "source": [
    "En primer lugar, veamos como trabajar con este tipo de datos en Python. Para trabajar con este tipo de archivos Pandas hace uso de una estructura de datos llamada DataFrame. Si tenemos una única columna también podemos usar el tipo Series, aunque para esta sesión no nos hará falta."
   ]
  },
  {
   "cell_type": "code",
   "execution_count": 2,
   "metadata": {},
   "outputs": [
    {
     "data": {
      "text/html": [
       "<div>\n",
       "<style scoped>\n",
       "    .dataframe tbody tr th:only-of-type {\n",
       "        vertical-align: middle;\n",
       "    }\n",
       "\n",
       "    .dataframe tbody tr th {\n",
       "        vertical-align: top;\n",
       "    }\n",
       "\n",
       "    .dataframe thead th {\n",
       "        text-align: right;\n",
       "    }\n",
       "</style>\n",
       "<table border=\"1\" class=\"dataframe\">\n",
       "  <thead>\n",
       "    <tr style=\"text-align: right;\">\n",
       "      <th></th>\n",
       "      <th>C1</th>\n",
       "      <th>C2</th>\n",
       "      <th>C3</th>\n",
       "    </tr>\n",
       "  </thead>\n",
       "  <tbody>\n",
       "    <tr>\n",
       "      <th>0</th>\n",
       "      <td>0.706021</td>\n",
       "      <td>0.179830</td>\n",
       "      <td>0.882346</td>\n",
       "    </tr>\n",
       "    <tr>\n",
       "      <th>1</th>\n",
       "      <td>0.655849</td>\n",
       "      <td>0.294275</td>\n",
       "      <td>0.413459</td>\n",
       "    </tr>\n",
       "    <tr>\n",
       "      <th>2</th>\n",
       "      <td>0.106518</td>\n",
       "      <td>0.191646</td>\n",
       "      <td>0.007968</td>\n",
       "    </tr>\n",
       "    <tr>\n",
       "      <th>3</th>\n",
       "      <td>0.183515</td>\n",
       "      <td>0.597463</td>\n",
       "      <td>0.579825</td>\n",
       "    </tr>\n",
       "    <tr>\n",
       "      <th>4</th>\n",
       "      <td>0.749999</td>\n",
       "      <td>0.838422</td>\n",
       "      <td>0.962952</td>\n",
       "    </tr>\n",
       "    <tr>\n",
       "      <th>5</th>\n",
       "      <td>0.068976</td>\n",
       "      <td>0.366909</td>\n",
       "      <td>0.154309</td>\n",
       "    </tr>\n",
       "    <tr>\n",
       "      <th>6</th>\n",
       "      <td>0.334469</td>\n",
       "      <td>0.741513</td>\n",
       "      <td>0.668904</td>\n",
       "    </tr>\n",
       "    <tr>\n",
       "      <th>7</th>\n",
       "      <td>0.864397</td>\n",
       "      <td>0.151708</td>\n",
       "      <td>0.227043</td>\n",
       "    </tr>\n",
       "    <tr>\n",
       "      <th>8</th>\n",
       "      <td>0.917960</td>\n",
       "      <td>0.376221</td>\n",
       "      <td>0.016899</td>\n",
       "    </tr>\n",
       "    <tr>\n",
       "      <th>9</th>\n",
       "      <td>0.524048</td>\n",
       "      <td>0.502941</td>\n",
       "      <td>0.432898</td>\n",
       "    </tr>\n",
       "  </tbody>\n",
       "</table>\n",
       "</div>"
      ],
      "text/plain": [
       "         C1        C2        C3\n",
       "0  0.706021  0.179830  0.882346\n",
       "1  0.655849  0.294275  0.413459\n",
       "2  0.106518  0.191646  0.007968\n",
       "3  0.183515  0.597463  0.579825\n",
       "4  0.749999  0.838422  0.962952\n",
       "5  0.068976  0.366909  0.154309\n",
       "6  0.334469  0.741513  0.668904\n",
       "7  0.864397  0.151708  0.227043\n",
       "8  0.917960  0.376221  0.016899\n",
       "9  0.524048  0.502941  0.432898"
      ]
     },
     "execution_count": 2,
     "metadata": {},
     "output_type": "execute_result"
    }
   ],
   "source": [
    "# Creamos un dataframe con 3 columnas C1, C2 y C3 y 10 filas. Sus valores seran números aleatorios entre 0 y 1\n",
    "\n",
    "data = np.random.rand(10,3)\n",
    "\n",
    "df = pd.DataFrame(data)\n",
    "\n",
    "df_col = pd.DataFrame(data,columns=['C1', 'C2', 'C3'])\n",
    "df_col"
   ]
  },
  {
   "cell_type": "code",
   "execution_count": 3,
   "metadata": {},
   "outputs": [
    {
     "name": "stdout",
     "output_type": "stream",
     "text": [
      "C1    0.655849\n",
      "C2    0.294275\n",
      "C3    0.413459\n",
      "Name: 1, dtype: float64\n",
      "0    0.179830\n",
      "1    0.294275\n",
      "2    0.191646\n",
      "3    0.597463\n",
      "4    0.838422\n",
      "5    0.366909\n",
      "6    0.741513\n",
      "7    0.151708\n",
      "8    0.376221\n",
      "9    0.502941\n",
      "Name: C2, dtype: float64\n",
      "0    0.179830\n",
      "1    0.294275\n",
      "2    0.191646\n",
      "3    0.597463\n",
      "4    0.838422\n",
      "5    0.366909\n",
      "6    0.741513\n",
      "7    0.151708\n",
      "8    0.376221\n",
      "9    0.502941\n",
      "Name: C2, dtype: float64\n"
     ]
    }
   ],
   "source": [
    "# Podemos acceder a una fila o columna concreta del dataframe\n",
    "\n",
    "# Acceder a la fila 2 del dataframe\n",
    "print(df_col.iloc[1])\n",
    "\n",
    "# Acceder a la columna 2 del dataframe\n",
    "print(df_col.iloc[:,1])\n",
    "print(df_col[\"C2\"])"
   ]
  },
  {
   "cell_type": "code",
   "execution_count": 4,
   "metadata": {},
   "outputs": [
    {
     "data": {
      "text/html": [
       "<div>\n",
       "<style scoped>\n",
       "    .dataframe tbody tr th:only-of-type {\n",
       "        vertical-align: middle;\n",
       "    }\n",
       "\n",
       "    .dataframe tbody tr th {\n",
       "        vertical-align: top;\n",
       "    }\n",
       "\n",
       "    .dataframe thead th {\n",
       "        text-align: right;\n",
       "    }\n",
       "</style>\n",
       "<table border=\"1\" class=\"dataframe\">\n",
       "  <thead>\n",
       "    <tr style=\"text-align: right;\">\n",
       "      <th></th>\n",
       "      <th>C1</th>\n",
       "      <th>C2</th>\n",
       "      <th>C3</th>\n",
       "      <th>C4</th>\n",
       "    </tr>\n",
       "  </thead>\n",
       "  <tbody>\n",
       "    <tr>\n",
       "      <th>0</th>\n",
       "      <td>0.706021</td>\n",
       "      <td>0.179830</td>\n",
       "      <td>0.882346</td>\n",
       "      <td>1</td>\n",
       "    </tr>\n",
       "    <tr>\n",
       "      <th>1</th>\n",
       "      <td>0.655849</td>\n",
       "      <td>0.294275</td>\n",
       "      <td>0.413459</td>\n",
       "      <td>2</td>\n",
       "    </tr>\n",
       "    <tr>\n",
       "      <th>2</th>\n",
       "      <td>0.106518</td>\n",
       "      <td>0.191646</td>\n",
       "      <td>0.007968</td>\n",
       "      <td>3</td>\n",
       "    </tr>\n",
       "    <tr>\n",
       "      <th>3</th>\n",
       "      <td>0.183515</td>\n",
       "      <td>0.597463</td>\n",
       "      <td>0.579825</td>\n",
       "      <td>4</td>\n",
       "    </tr>\n",
       "    <tr>\n",
       "      <th>4</th>\n",
       "      <td>0.749999</td>\n",
       "      <td>0.838422</td>\n",
       "      <td>0.962952</td>\n",
       "      <td>5</td>\n",
       "    </tr>\n",
       "    <tr>\n",
       "      <th>5</th>\n",
       "      <td>0.068976</td>\n",
       "      <td>0.366909</td>\n",
       "      <td>0.154309</td>\n",
       "      <td>6</td>\n",
       "    </tr>\n",
       "    <tr>\n",
       "      <th>6</th>\n",
       "      <td>0.334469</td>\n",
       "      <td>0.741513</td>\n",
       "      <td>0.668904</td>\n",
       "      <td>7</td>\n",
       "    </tr>\n",
       "    <tr>\n",
       "      <th>7</th>\n",
       "      <td>0.864397</td>\n",
       "      <td>0.151708</td>\n",
       "      <td>0.227043</td>\n",
       "      <td>8</td>\n",
       "    </tr>\n",
       "    <tr>\n",
       "      <th>8</th>\n",
       "      <td>0.917960</td>\n",
       "      <td>0.376221</td>\n",
       "      <td>0.016899</td>\n",
       "      <td>9</td>\n",
       "    </tr>\n",
       "    <tr>\n",
       "      <th>9</th>\n",
       "      <td>0.524048</td>\n",
       "      <td>0.502941</td>\n",
       "      <td>0.432898</td>\n",
       "      <td>10</td>\n",
       "    </tr>\n",
       "  </tbody>\n",
       "</table>\n",
       "</div>"
      ],
      "text/plain": [
       "         C1        C2        C3  C4\n",
       "0  0.706021  0.179830  0.882346   1\n",
       "1  0.655849  0.294275  0.413459   2\n",
       "2  0.106518  0.191646  0.007968   3\n",
       "3  0.183515  0.597463  0.579825   4\n",
       "4  0.749999  0.838422  0.962952   5\n",
       "5  0.068976  0.366909  0.154309   6\n",
       "6  0.334469  0.741513  0.668904   7\n",
       "7  0.864397  0.151708  0.227043   8\n",
       "8  0.917960  0.376221  0.016899   9\n",
       "9  0.524048  0.502941  0.432898  10"
      ]
     },
     "execution_count": 4,
     "metadata": {},
     "output_type": "execute_result"
    }
   ],
   "source": [
    "# Podemos añadir también nuevas columnas al dataframe\n",
    "df_col[\"C4\"] = [1, 2, 3, 4, 5, 6, 7, 8, 9, 10]\n",
    "df_col"
   ]
  },
  {
   "cell_type": "code",
   "execution_count": 5,
   "metadata": {},
   "outputs": [
    {
     "name": "stdout",
     "output_type": "stream",
     "text": [
      "         C1        C2        C3  C4\n",
      "0  0.706021  0.179830  0.882346   1\n",
      "4  0.749999  0.838422  0.962952   5\n",
      "7  0.864397  0.151708  0.227043   8\n",
      "8  0.917960  0.376221  0.016899   9\n",
      "0    0.706021\n",
      "4    0.749999\n",
      "7    0.864397\n",
      "8    0.917960\n",
      "Name: C1, dtype: float64\n",
      "         C1        C2        C3  C4\n",
      "0  0.706021  0.179830  0.882346   1\n",
      "7  0.864397  0.151708  0.227043   8\n",
      "8  0.917960  0.376221  0.016899   9\n"
     ]
    }
   ],
   "source": [
    "# Podemos realizar consultas más complejas que seleccionar simplemente una fila o columna\n",
    "\n",
    "# Nos quedamos con las filas cuyo valor en C1 sea mayor que 0.7\n",
    "print(df_col[df_col[\"C1\"] > 0.7])\n",
    "\n",
    "# Podemos hacer lo mismo pero quedándonos solo con la columna C1\n",
    "print(df_col[df_col[\"C1\"] > 0.7][\"C1\"])\n",
    "\n",
    "# Podemos incluir una expresión booleana que afecte a más de una columna.\n",
    "# Por ejemplo las filas cuyo valor en C1 sea mayor que 0.7 y en C2 menor que 0.7\n",
    "print((df_col[(df_col[\"C1\"] > 0.7) & (df_col[\"C2\"] < 0.7)]))"
   ]
  },
  {
   "cell_type": "markdown",
   "metadata": {},
   "source": [
    "¿Se te ocurre alguna otra consulta interesante que podamos hacer? ¡Es el momento de preguntar!"
   ]
  },
  {
   "cell_type": "markdown",
   "metadata": {},
   "source": [
    "### 1.2. Lectura de dataframes <a name=\"lectura_pandas\"> </a>"
   ]
  },
  {
   "cell_type": "markdown",
   "metadata": {},
   "source": [
    "Una vez visto las funciones básicas pasemos a trabajar con algunos csv más grandes. "
   ]
  },
  {
   "cell_type": "code",
   "execution_count": 6,
   "metadata": {},
   "outputs": [
    {
     "data": {
      "text/html": [
       "<div>\n",
       "<style scoped>\n",
       "    .dataframe tbody tr th:only-of-type {\n",
       "        vertical-align: middle;\n",
       "    }\n",
       "\n",
       "    .dataframe tbody tr th {\n",
       "        vertical-align: top;\n",
       "    }\n",
       "\n",
       "    .dataframe thead th {\n",
       "        text-align: right;\n",
       "    }\n",
       "</style>\n",
       "<table border=\"1\" class=\"dataframe\">\n",
       "  <thead>\n",
       "    <tr style=\"text-align: right;\">\n",
       "      <th></th>\n",
       "      <th>pclass</th>\n",
       "      <th>name</th>\n",
       "      <th>sex</th>\n",
       "      <th>age</th>\n",
       "      <th>sibsp</th>\n",
       "      <th>parch</th>\n",
       "      <th>ticket</th>\n",
       "      <th>fare</th>\n",
       "      <th>cabin</th>\n",
       "      <th>embarked</th>\n",
       "      <th>survived</th>\n",
       "    </tr>\n",
       "  </thead>\n",
       "  <tbody>\n",
       "    <tr>\n",
       "      <th>0</th>\n",
       "      <td>1</td>\n",
       "      <td>Allen, Miss. Elisabeth Walton</td>\n",
       "      <td>female</td>\n",
       "      <td>29.0000</td>\n",
       "      <td>0</td>\n",
       "      <td>0</td>\n",
       "      <td>24160</td>\n",
       "      <td>211.3375</td>\n",
       "      <td>B5</td>\n",
       "      <td>S</td>\n",
       "      <td>1</td>\n",
       "    </tr>\n",
       "    <tr>\n",
       "      <th>1</th>\n",
       "      <td>1</td>\n",
       "      <td>Allison, Master. Hudson Trevor</td>\n",
       "      <td>male</td>\n",
       "      <td>0.9167</td>\n",
       "      <td>1</td>\n",
       "      <td>2</td>\n",
       "      <td>113781</td>\n",
       "      <td>151.5500</td>\n",
       "      <td>C22 C26</td>\n",
       "      <td>S</td>\n",
       "      <td>1</td>\n",
       "    </tr>\n",
       "    <tr>\n",
       "      <th>2</th>\n",
       "      <td>1</td>\n",
       "      <td>Allison, Miss. Helen Loraine</td>\n",
       "      <td>female</td>\n",
       "      <td>2.0000</td>\n",
       "      <td>1</td>\n",
       "      <td>2</td>\n",
       "      <td>113781</td>\n",
       "      <td>151.5500</td>\n",
       "      <td>C22 C26</td>\n",
       "      <td>S</td>\n",
       "      <td>0</td>\n",
       "    </tr>\n",
       "    <tr>\n",
       "      <th>3</th>\n",
       "      <td>1</td>\n",
       "      <td>Allison, Mr. Hudson Joshua Creighton</td>\n",
       "      <td>male</td>\n",
       "      <td>30.0000</td>\n",
       "      <td>1</td>\n",
       "      <td>2</td>\n",
       "      <td>113781</td>\n",
       "      <td>151.5500</td>\n",
       "      <td>C22 C26</td>\n",
       "      <td>S</td>\n",
       "      <td>0</td>\n",
       "    </tr>\n",
       "    <tr>\n",
       "      <th>4</th>\n",
       "      <td>1</td>\n",
       "      <td>Allison, Mrs. Hudson J C (Bessie Waldo Daniels)</td>\n",
       "      <td>female</td>\n",
       "      <td>25.0000</td>\n",
       "      <td>1</td>\n",
       "      <td>2</td>\n",
       "      <td>113781</td>\n",
       "      <td>151.5500</td>\n",
       "      <td>C22 C26</td>\n",
       "      <td>S</td>\n",
       "      <td>0</td>\n",
       "    </tr>\n",
       "    <tr>\n",
       "      <th>...</th>\n",
       "      <td>...</td>\n",
       "      <td>...</td>\n",
       "      <td>...</td>\n",
       "      <td>...</td>\n",
       "      <td>...</td>\n",
       "      <td>...</td>\n",
       "      <td>...</td>\n",
       "      <td>...</td>\n",
       "      <td>...</td>\n",
       "      <td>...</td>\n",
       "      <td>...</td>\n",
       "    </tr>\n",
       "    <tr>\n",
       "      <th>1304</th>\n",
       "      <td>3</td>\n",
       "      <td>Zabour, Miss. Hileni</td>\n",
       "      <td>female</td>\n",
       "      <td>14.5000</td>\n",
       "      <td>1</td>\n",
       "      <td>0</td>\n",
       "      <td>2665</td>\n",
       "      <td>14.4542</td>\n",
       "      <td>NaN</td>\n",
       "      <td>C</td>\n",
       "      <td>0</td>\n",
       "    </tr>\n",
       "    <tr>\n",
       "      <th>1305</th>\n",
       "      <td>3</td>\n",
       "      <td>Zabour, Miss. Thamine</td>\n",
       "      <td>female</td>\n",
       "      <td>NaN</td>\n",
       "      <td>1</td>\n",
       "      <td>0</td>\n",
       "      <td>2665</td>\n",
       "      <td>14.4542</td>\n",
       "      <td>NaN</td>\n",
       "      <td>C</td>\n",
       "      <td>0</td>\n",
       "    </tr>\n",
       "    <tr>\n",
       "      <th>1306</th>\n",
       "      <td>3</td>\n",
       "      <td>Zakarian, Mr. Mapriededer</td>\n",
       "      <td>male</td>\n",
       "      <td>26.5000</td>\n",
       "      <td>0</td>\n",
       "      <td>0</td>\n",
       "      <td>2656</td>\n",
       "      <td>7.2250</td>\n",
       "      <td>NaN</td>\n",
       "      <td>C</td>\n",
       "      <td>0</td>\n",
       "    </tr>\n",
       "    <tr>\n",
       "      <th>1307</th>\n",
       "      <td>3</td>\n",
       "      <td>Zakarian, Mr. Ortin</td>\n",
       "      <td>male</td>\n",
       "      <td>27.0000</td>\n",
       "      <td>0</td>\n",
       "      <td>0</td>\n",
       "      <td>2670</td>\n",
       "      <td>7.2250</td>\n",
       "      <td>NaN</td>\n",
       "      <td>C</td>\n",
       "      <td>0</td>\n",
       "    </tr>\n",
       "    <tr>\n",
       "      <th>1308</th>\n",
       "      <td>3</td>\n",
       "      <td>Zimmerman, Mr. Leo</td>\n",
       "      <td>male</td>\n",
       "      <td>29.0000</td>\n",
       "      <td>0</td>\n",
       "      <td>0</td>\n",
       "      <td>315082</td>\n",
       "      <td>7.8750</td>\n",
       "      <td>NaN</td>\n",
       "      <td>S</td>\n",
       "      <td>0</td>\n",
       "    </tr>\n",
       "  </tbody>\n",
       "</table>\n",
       "<p>1309 rows × 11 columns</p>\n",
       "</div>"
      ],
      "text/plain": [
       "      pclass                                             name     sex  \\\n",
       "0          1                    Allen, Miss. Elisabeth Walton  female   \n",
       "1          1                   Allison, Master. Hudson Trevor    male   \n",
       "2          1                     Allison, Miss. Helen Loraine  female   \n",
       "3          1             Allison, Mr. Hudson Joshua Creighton    male   \n",
       "4          1  Allison, Mrs. Hudson J C (Bessie Waldo Daniels)  female   \n",
       "...      ...                                              ...     ...   \n",
       "1304       3                             Zabour, Miss. Hileni  female   \n",
       "1305       3                            Zabour, Miss. Thamine  female   \n",
       "1306       3                        Zakarian, Mr. Mapriededer    male   \n",
       "1307       3                              Zakarian, Mr. Ortin    male   \n",
       "1308       3                               Zimmerman, Mr. Leo    male   \n",
       "\n",
       "          age  sibsp  parch  ticket      fare    cabin embarked  survived  \n",
       "0     29.0000      0      0   24160  211.3375       B5        S         1  \n",
       "1      0.9167      1      2  113781  151.5500  C22 C26        S         1  \n",
       "2      2.0000      1      2  113781  151.5500  C22 C26        S         0  \n",
       "3     30.0000      1      2  113781  151.5500  C22 C26        S         0  \n",
       "4     25.0000      1      2  113781  151.5500  C22 C26        S         0  \n",
       "...       ...    ...    ...     ...       ...      ...      ...       ...  \n",
       "1304  14.5000      1      0    2665   14.4542      NaN        C         0  \n",
       "1305      NaN      1      0    2665   14.4542      NaN        C         0  \n",
       "1306  26.5000      0      0    2656    7.2250      NaN        C         0  \n",
       "1307  27.0000      0      0    2670    7.2250      NaN        C         0  \n",
       "1308  29.0000      0      0  315082    7.8750      NaN        S         0  \n",
       "\n",
       "[1309 rows x 11 columns]"
      ]
     },
     "execution_count": 6,
     "metadata": {},
     "output_type": "execute_result"
    }
   ],
   "source": [
    "# Para leer un dataframe basta usar la funcion read_csv\n",
    "titanic = pd.read_csv(\"titanic.csv\")\n",
    "titanic"
   ]
  },
  {
   "cell_type": "code",
   "execution_count": 7,
   "metadata": {},
   "outputs": [
    {
     "name": "stdout",
     "output_type": "stream",
     "text": [
      "Index(['pclass', 'name', 'sex', 'age', 'sibsp', 'parch', 'ticket', 'fare',\n",
      "       'cabin', 'embarked', 'survived'],\n",
      "      dtype='object')\n",
      "<class 'pandas.core.frame.DataFrame'>\n",
      "RangeIndex: 1309 entries, 0 to 1308\n",
      "Data columns (total 11 columns):\n",
      " #   Column    Non-Null Count  Dtype  \n",
      "---  ------    --------------  -----  \n",
      " 0   pclass    1309 non-null   int64  \n",
      " 1   name      1309 non-null   object \n",
      " 2   sex       1309 non-null   object \n",
      " 3   age       1046 non-null   float64\n",
      " 4   sibsp     1309 non-null   int64  \n",
      " 5   parch     1309 non-null   int64  \n",
      " 6   ticket    1309 non-null   object \n",
      " 7   fare      1308 non-null   float64\n",
      " 8   cabin     295 non-null    object \n",
      " 9   embarked  1307 non-null   object \n",
      " 10  survived  1309 non-null   int64  \n",
      "dtypes: float64(2), int64(4), object(5)\n",
      "memory usage: 112.6+ KB\n",
      "None\n",
      "            pclass          age        sibsp        parch         fare  \\\n",
      "count  1309.000000  1046.000000  1309.000000  1309.000000  1308.000000   \n",
      "mean      2.294882    29.881135     0.498854     0.385027    33.295479   \n",
      "std       0.837836    14.413500     1.041658     0.865560    51.758668   \n",
      "min       1.000000     0.166700     0.000000     0.000000     0.000000   \n",
      "25%       2.000000    21.000000     0.000000     0.000000     7.895800   \n",
      "50%       3.000000    28.000000     0.000000     0.000000    14.454200   \n",
      "75%       3.000000    39.000000     1.000000     0.000000    31.275000   \n",
      "max       3.000000    80.000000     8.000000     9.000000   512.329200   \n",
      "\n",
      "          survived  \n",
      "count  1309.000000  \n",
      "mean      0.381971  \n",
      "std       0.486055  \n",
      "min       0.000000  \n",
      "25%       0.000000  \n",
      "50%       0.000000  \n",
      "75%       1.000000  \n",
      "max       1.000000  \n",
      "pclass        int64\n",
      "name         object\n",
      "sex          object\n",
      "age         float64\n",
      "sibsp         int64\n",
      "parch         int64\n",
      "ticket       object\n",
      "fare        float64\n",
      "cabin        object\n",
      "embarked     object\n",
      "survived      int64\n",
      "dtype: object\n",
      "[[1 'Allen, Miss. Elisabeth Walton' 'female' ... 'B5' 'S' 1]\n",
      " [1 'Allison, Master. Hudson Trevor' 'male' ... 'C22 C26' 'S' 1]\n",
      " [1 'Allison, Miss. Helen Loraine' 'female' ... 'C22 C26' 'S' 0]\n",
      " ...\n",
      " [3 'Zakarian, Mr. Mapriededer' 'male' ... nan 'C' 0]\n",
      " [3 'Zakarian, Mr. Ortin' 'male' ... nan 'C' 0]\n",
      " [3 'Zimmerman, Mr. Leo' 'male' ... nan 'S' 0]]\n"
     ]
    }
   ],
   "source": [
    "# Podemos usar las siguientes funciones para ver información sobre el dataframe\n",
    "print(titanic.columns)\n",
    "print(titanic.info())\n",
    "print(titanic.describe())\n",
    "print(titanic.dtypes)\n",
    "print(titanic.values)"
   ]
  },
  {
   "cell_type": "markdown",
   "metadata": {},
   "source": [
    "## 1.3. Transformaciones <a name=\"transform\"> </a>"
   ]
  },
  {
   "cell_type": "markdown",
   "metadata": {},
   "source": [
    "Pongamos en práctica lo visto en la sección anterior y hagamos alguna transformaciones sobre nuestro DataFrame. Para cualquier duda no dudes en preguntar."
   ]
  },
  {
   "cell_type": "code",
   "execution_count": 8,
   "metadata": {},
   "outputs": [],
   "source": [
    "# Una vez visto lo básico vamos a realizar algunos ejercicios\n",
    "# EJERCICIO\n",
    "# - Añadir al dataset una nueva columna llamada ticket-fare que sea la diferencia entre las columnas ticket y fare\n",
    "# - Crear una nueva columna que sea fare-norm resultado de normalizar la columna fare entre 0 y 1. \n",
    "#   La normalización podemos llevarla a cabo de 3 formas\n",
    "#        1. Dividir cada valor entre el maximo de la columna\n",
    "#        2. Restar cada valor con el minimo y dividir entre la diferencia entre el maximo y minimo\n",
    "#        3. Restar cada valor con la media de la columna y dividir por la desviacion estandar\n"
   ]
  },
  {
   "cell_type": "markdown",
   "metadata": {},
   "source": [
    "Para algunas transformaciones más complicadas tendremos que usar funciones adicionales como map y apply."
   ]
  },
  {
   "cell_type": "code",
   "execution_count": 9,
   "metadata": {},
   "outputs": [
    {
     "data": {
      "text/plain": [
       "0       Adulto\n",
       "1         Niño\n",
       "2         Niño\n",
       "3       Adulto\n",
       "4       Adulto\n",
       "         ...  \n",
       "1304     Joven\n",
       "1305     Joven\n",
       "1306    Adulto\n",
       "1307    Adulto\n",
       "1308    Adulto\n",
       "Name: age, Length: 1309, dtype: object"
      ]
     },
     "execution_count": 9,
     "metadata": {},
     "output_type": "execute_result"
    }
   ],
   "source": [
    "# EJERCICIO\n",
    "# Podemos crearnos funciones personalizadas para aplicar sobre el dataset haciendo uso de las funciones de apply y map.\n",
    "# Define una funcion que reciba una edad y devuelva Niño si la edad es menor que 10, Adulto si es mayor que 18 y Joven caso contrario\n",
    "# Luego mediante la funcion apply crea una nueva columna que sea age_str haciendo uso de esta funcion\n",
    "\n",
    "def calcula_edad(e):\n",
    "    if e < 10:\n",
    "        return \"Niño\"\n",
    "    elif e > 18:\n",
    "        return \"Adulto\"\n",
    "    return \"Joven\"\n",
    "\n",
    "age_str = titanic[\"age\"].apply(calcula_edad)\n",
    "titanic[\"age_str\"] = age_str\n",
    "age_str"
   ]
  },
  {
   "cell_type": "code",
   "execution_count": 10,
   "metadata": {},
   "outputs": [
    {
     "data": {
      "text/plain": [
       "0       3\n",
       "1       1\n",
       "2       1\n",
       "3       3\n",
       "4       3\n",
       "       ..\n",
       "1304    2\n",
       "1305    2\n",
       "1306    3\n",
       "1307    3\n",
       "1308    3\n",
       "Name: age_str, Length: 1309, dtype: int64"
      ]
     },
     "execution_count": 10,
     "metadata": {},
     "output_type": "execute_result"
    }
   ],
   "source": [
    "# Sin embargo, por comodidad puede ser que prefiramos tener valores númericos a cadena de caracteres. Haciendo uso ahora de la funcion map\n",
    "# podemos conseguir esto\n",
    "\n",
    "age_str = titanic[\"age_str\"].map({\"Niño\":1,\"Joven\":2,\"Adulto\":3})\n",
    "titanic[\"age_str\"] = age_str\n",
    "age_str"
   ]
  },
  {
   "cell_type": "markdown",
   "metadata": {},
   "source": [
    "## 1.4. Codificación de atributos discretos <a name=\"codificacion\"> </a>"
   ]
  },
  {
   "cell_type": "markdown",
   "metadata": {},
   "source": [
    "Muchos algoritmos de aprendizaje solo soportan valores númericos, por lo que es necesario transformar los atributos discretos en numéricos para ello.\n",
    "Podemos distinguir 3 categorías dentro de atributos discretos\n",
    "  - *Binarios*: Toman dos posibles valores opuestos, por ejemplo sex en nuestro dataframe\n",
    "  - *Categóricos*: Similar al anterior pero tomando más de dos valores, por ejemplo embarked, el puerto de embarque\n",
    "  - *Ordinales*: Es como un categórico pero con una relación de orden, por ejemplo pclass, que indica la clase del billete\n",
    "\n",
    "Para el primero, basta con asociar a cada sexo un número (0 y 1) para su codificación\n",
    "\n",
    "Para el tercero, se haría de forma similar, asociando un número de forma que corresponda al orden de las clases, por ejemplo 1 para los billetes \n",
    "más caros, 2 para los intermedios y 3 para los más baratos\n",
    "\n",
    "Para el segundo, no podemos usar esta técnica, ya que implicaría que tenemos un orden entre los valores que realmente no existe. Por tanto, lo que\n",
    "haremos será crear tantas columnas como posibles valores tome la variable y cada fila tendrá un 1 en la columna correspondiente al valor que tomaba\n",
    "y 0 en todas las demás\n"
   ]
  },
  {
   "cell_type": "code",
   "execution_count": 11,
   "metadata": {},
   "outputs": [
    {
     "name": "stdout",
     "output_type": "stream",
     "text": [
      "sex\n",
      "male      843\n",
      "female    466\n",
      "Name: count, dtype: int64\n"
     ]
    }
   ],
   "source": [
    "# EJERCICIO\n",
    "# Codifica las variables de sexo y embarked anteriores con los métodos adecuados. Para las variables ordinales usa la función de pandas get_dummies()\n",
    "# Para saber los posibles valores que toma una columna te puede servir la funcion value_counts\n",
    "\n",
    "print(titanic[\"sex\"].value_counts())\n",
    "titanic[\"sex_level\"] = titanic[\"sex\"].map({\"male\": 0, \"female\": 1})\n",
    "\n",
    "\n",
    "titanic1 = pd.get_dummies(titanic['embarked'])"
   ]
  },
  {
   "cell_type": "markdown",
   "metadata": {},
   "source": [
    "## 1.5. Tratamiento de valores ausentes <a name=\"nans\"> </a>"
   ]
  },
  {
   "cell_type": "markdown",
   "metadata": {},
   "source": [
    "Si os habéis fijado en el dataframe anterior algunas columnas NaN o NA o algo del estilo. Esto se da generalmente cuando esa celda del dataframe\n",
    "se encuentra vacía, es decir, que no tiene ningun valor asociado. Los modelos de machine learning no pueden ser entrenados con esta clase de \n",
    "valores, ya que no sabrían que hacer con ellos. La opción más sencilla sería descartar cualquier fila que presentara estos valores, pero\n",
    "con algunas técnicas simples podemos evitar esto"
   ]
  },
  {
   "cell_type": "code",
   "execution_count": 12,
   "metadata": {},
   "outputs": [],
   "source": [
    "# Cargamos de nuevo los datos\n",
    "titanic = pd.read_csv(\"titanic.csv\")"
   ]
  },
  {
   "cell_type": "code",
   "execution_count": 13,
   "metadata": {},
   "outputs": [
    {
     "data": {
      "text/plain": [
       "pclass      False\n",
       "name        False\n",
       "sex         False\n",
       "age          True\n",
       "sibsp       False\n",
       "parch       False\n",
       "ticket      False\n",
       "fare         True\n",
       "cabin        True\n",
       "embarked     True\n",
       "survived    False\n",
       "dtype: bool"
      ]
     },
     "execution_count": 13,
     "metadata": {},
     "output_type": "execute_result"
    }
   ],
   "source": [
    "# Comprobamos para que columnas hay valores nulos\n",
    "titanic.isnull().any()"
   ]
  },
  {
   "cell_type": "code",
   "execution_count": 14,
   "metadata": {},
   "outputs": [
    {
     "data": {
      "text/plain": [
       "Index(['age', 'fare', 'cabin', 'embarked'], dtype='object')"
      ]
     },
     "execution_count": 14,
     "metadata": {},
     "output_type": "execute_result"
    }
   ],
   "source": [
    "# Otra forma mas sencilla de verlo\n",
    "titanic.columns[titanic.isnull().any()]"
   ]
  },
  {
   "cell_type": "markdown",
   "metadata": {},
   "source": [
    "Como decíamos se podrían eliminar filas con estos valores. Esto no es muy recomedable, sobre todo si nuestro dataframe es pequeño ya que \n",
    "perderíamos mucha información, pero como ejercico práctico es útil ver como se hace."
   ]
  },
  {
   "cell_type": "code",
   "execution_count": 15,
   "metadata": {},
   "outputs": [
    {
     "data": {
      "text/plain": [
       "Index([], dtype='object')"
      ]
     },
     "execution_count": 15,
     "metadata": {},
     "output_type": "execute_result"
    }
   ],
   "source": [
    "# EJERCICIO\n",
    "# Crea otro dataframe basado en titanic eliminando las filas con valores nulos. Usa las funciones isnull() y dropna()\n",
    "\n",
    "titanic2 = titanic.dropna()\n",
    "titanic2.columns[titanic2.isnull().any()]"
   ]
  },
  {
   "cell_type": "markdown",
   "metadata": {},
   "source": [
    "Para evitar eliminar filas de nuestro dataset podemos intentar rellenar estos valores que faltan con la información que nos aportan el resto de valores de la columna correspondiente. La idea más simple es, para los valores numéricos, rellenar estos huecos con la media de la columna y para los categóricos, usar la moda."
   ]
  },
  {
   "cell_type": "code",
   "execution_count": 16,
   "metadata": {},
   "outputs": [],
   "source": [
    "# EJERCICIO\n",
    "# Crea 4 columnas nuevas que se basen en las 4 columnas con valores NaN rellenando estos valores o bien con la media o bien con la moda. \n",
    "# Para ello usa la funcion fillna()\n",
    "# Deberas de usar la funcion mode del modulo statistics para calcular la moda, ya que la funcion que proporciona pandas te devolvera NaN\n",
    "# en caso de encontrarse alguno\n",
    "from statistics import mode\n",
    "titanic[\"age_fill\"] = titanic[\"age\"].fillna(titanic[\"age\"].mean())\n",
    "titanic[\"fare_fill\"] = titanic[\"fare\"].fillna(titanic[\"fare\"].mean())\n",
    "\n",
    "cabin_fill = mode(titanic[\"cabin\"])\n",
    "titanic[\"cabin_fill\"] = titanic[\"cabin\"].fillna(cabin_fill)\n",
    "embarked_fill = mode(titanic[\"embarked\"])\n",
    "titanic[\"embarked_fill\"] = titanic[\"embarked\"].fillna(embarked_fill)"
   ]
  },
  {
   "cell_type": "markdown",
   "metadata": {},
   "source": [
    "Ahora podríamos borrar las 4 columnas originales y usar las que ya están rellenas"
   ]
  },
  {
   "cell_type": "code",
   "execution_count": 17,
   "metadata": {},
   "outputs": [
    {
     "data": {
      "text/html": [
       "<div>\n",
       "<style scoped>\n",
       "    .dataframe tbody tr th:only-of-type {\n",
       "        vertical-align: middle;\n",
       "    }\n",
       "\n",
       "    .dataframe tbody tr th {\n",
       "        vertical-align: top;\n",
       "    }\n",
       "\n",
       "    .dataframe thead th {\n",
       "        text-align: right;\n",
       "    }\n",
       "</style>\n",
       "<table border=\"1\" class=\"dataframe\">\n",
       "  <thead>\n",
       "    <tr style=\"text-align: right;\">\n",
       "      <th></th>\n",
       "      <th>pclass</th>\n",
       "      <th>name</th>\n",
       "      <th>sex</th>\n",
       "      <th>sibsp</th>\n",
       "      <th>parch</th>\n",
       "      <th>ticket</th>\n",
       "      <th>survived</th>\n",
       "      <th>age_fill</th>\n",
       "      <th>fare_fill</th>\n",
       "      <th>embarked_fill</th>\n",
       "    </tr>\n",
       "  </thead>\n",
       "  <tbody>\n",
       "    <tr>\n",
       "      <th>0</th>\n",
       "      <td>1</td>\n",
       "      <td>Allen, Miss. Elisabeth Walton</td>\n",
       "      <td>female</td>\n",
       "      <td>0</td>\n",
       "      <td>0</td>\n",
       "      <td>24160</td>\n",
       "      <td>1</td>\n",
       "      <td>29.000000</td>\n",
       "      <td>211.3375</td>\n",
       "      <td>S</td>\n",
       "    </tr>\n",
       "    <tr>\n",
       "      <th>1</th>\n",
       "      <td>1</td>\n",
       "      <td>Allison, Master. Hudson Trevor</td>\n",
       "      <td>male</td>\n",
       "      <td>1</td>\n",
       "      <td>2</td>\n",
       "      <td>113781</td>\n",
       "      <td>1</td>\n",
       "      <td>0.916700</td>\n",
       "      <td>151.5500</td>\n",
       "      <td>S</td>\n",
       "    </tr>\n",
       "    <tr>\n",
       "      <th>2</th>\n",
       "      <td>1</td>\n",
       "      <td>Allison, Miss. Helen Loraine</td>\n",
       "      <td>female</td>\n",
       "      <td>1</td>\n",
       "      <td>2</td>\n",
       "      <td>113781</td>\n",
       "      <td>0</td>\n",
       "      <td>2.000000</td>\n",
       "      <td>151.5500</td>\n",
       "      <td>S</td>\n",
       "    </tr>\n",
       "    <tr>\n",
       "      <th>3</th>\n",
       "      <td>1</td>\n",
       "      <td>Allison, Mr. Hudson Joshua Creighton</td>\n",
       "      <td>male</td>\n",
       "      <td>1</td>\n",
       "      <td>2</td>\n",
       "      <td>113781</td>\n",
       "      <td>0</td>\n",
       "      <td>30.000000</td>\n",
       "      <td>151.5500</td>\n",
       "      <td>S</td>\n",
       "    </tr>\n",
       "    <tr>\n",
       "      <th>4</th>\n",
       "      <td>1</td>\n",
       "      <td>Allison, Mrs. Hudson J C (Bessie Waldo Daniels)</td>\n",
       "      <td>female</td>\n",
       "      <td>1</td>\n",
       "      <td>2</td>\n",
       "      <td>113781</td>\n",
       "      <td>0</td>\n",
       "      <td>25.000000</td>\n",
       "      <td>151.5500</td>\n",
       "      <td>S</td>\n",
       "    </tr>\n",
       "    <tr>\n",
       "      <th>...</th>\n",
       "      <td>...</td>\n",
       "      <td>...</td>\n",
       "      <td>...</td>\n",
       "      <td>...</td>\n",
       "      <td>...</td>\n",
       "      <td>...</td>\n",
       "      <td>...</td>\n",
       "      <td>...</td>\n",
       "      <td>...</td>\n",
       "      <td>...</td>\n",
       "    </tr>\n",
       "    <tr>\n",
       "      <th>1304</th>\n",
       "      <td>3</td>\n",
       "      <td>Zabour, Miss. Hileni</td>\n",
       "      <td>female</td>\n",
       "      <td>1</td>\n",
       "      <td>0</td>\n",
       "      <td>2665</td>\n",
       "      <td>0</td>\n",
       "      <td>14.500000</td>\n",
       "      <td>14.4542</td>\n",
       "      <td>C</td>\n",
       "    </tr>\n",
       "    <tr>\n",
       "      <th>1305</th>\n",
       "      <td>3</td>\n",
       "      <td>Zabour, Miss. Thamine</td>\n",
       "      <td>female</td>\n",
       "      <td>1</td>\n",
       "      <td>0</td>\n",
       "      <td>2665</td>\n",
       "      <td>0</td>\n",
       "      <td>29.881135</td>\n",
       "      <td>14.4542</td>\n",
       "      <td>C</td>\n",
       "    </tr>\n",
       "    <tr>\n",
       "      <th>1306</th>\n",
       "      <td>3</td>\n",
       "      <td>Zakarian, Mr. Mapriededer</td>\n",
       "      <td>male</td>\n",
       "      <td>0</td>\n",
       "      <td>0</td>\n",
       "      <td>2656</td>\n",
       "      <td>0</td>\n",
       "      <td>26.500000</td>\n",
       "      <td>7.2250</td>\n",
       "      <td>C</td>\n",
       "    </tr>\n",
       "    <tr>\n",
       "      <th>1307</th>\n",
       "      <td>3</td>\n",
       "      <td>Zakarian, Mr. Ortin</td>\n",
       "      <td>male</td>\n",
       "      <td>0</td>\n",
       "      <td>0</td>\n",
       "      <td>2670</td>\n",
       "      <td>0</td>\n",
       "      <td>27.000000</td>\n",
       "      <td>7.2250</td>\n",
       "      <td>C</td>\n",
       "    </tr>\n",
       "    <tr>\n",
       "      <th>1308</th>\n",
       "      <td>3</td>\n",
       "      <td>Zimmerman, Mr. Leo</td>\n",
       "      <td>male</td>\n",
       "      <td>0</td>\n",
       "      <td>0</td>\n",
       "      <td>315082</td>\n",
       "      <td>0</td>\n",
       "      <td>29.000000</td>\n",
       "      <td>7.8750</td>\n",
       "      <td>S</td>\n",
       "    </tr>\n",
       "  </tbody>\n",
       "</table>\n",
       "<p>1309 rows × 10 columns</p>\n",
       "</div>"
      ],
      "text/plain": [
       "      pclass                                             name     sex  sibsp  \\\n",
       "0          1                    Allen, Miss. Elisabeth Walton  female      0   \n",
       "1          1                   Allison, Master. Hudson Trevor    male      1   \n",
       "2          1                     Allison, Miss. Helen Loraine  female      1   \n",
       "3          1             Allison, Mr. Hudson Joshua Creighton    male      1   \n",
       "4          1  Allison, Mrs. Hudson J C (Bessie Waldo Daniels)  female      1   \n",
       "...      ...                                              ...     ...    ...   \n",
       "1304       3                             Zabour, Miss. Hileni  female      1   \n",
       "1305       3                            Zabour, Miss. Thamine  female      1   \n",
       "1306       3                        Zakarian, Mr. Mapriededer    male      0   \n",
       "1307       3                              Zakarian, Mr. Ortin    male      0   \n",
       "1308       3                               Zimmerman, Mr. Leo    male      0   \n",
       "\n",
       "      parch  ticket  survived   age_fill  fare_fill embarked_fill  \n",
       "0         0   24160         1  29.000000   211.3375             S  \n",
       "1         2  113781         1   0.916700   151.5500             S  \n",
       "2         2  113781         0   2.000000   151.5500             S  \n",
       "3         2  113781         0  30.000000   151.5500             S  \n",
       "4         2  113781         0  25.000000   151.5500             S  \n",
       "...     ...     ...       ...        ...        ...           ...  \n",
       "1304      0    2665         0  14.500000    14.4542             C  \n",
       "1305      0    2665         0  29.881135    14.4542             C  \n",
       "1306      0    2656         0  26.500000     7.2250             C  \n",
       "1307      0    2670         0  27.000000     7.2250             C  \n",
       "1308      0  315082         0  29.000000     7.8750             S  \n",
       "\n",
       "[1309 rows x 10 columns]"
      ]
     },
     "execution_count": 17,
     "metadata": {},
     "output_type": "execute_result"
    }
   ],
   "source": [
    "remove = (titanic.columns[titanic.isnull().any()])\n",
    "titanic3 = titanic.drop(columns=(remove))\n",
    "titanic3"
   ]
  },
  {
   "cell_type": "markdown",
   "metadata": {},
   "source": [
    "## 2. Entrenamiento de modelos <a name=\"training\"> </a>"
   ]
  },
  {
   "cell_type": "markdown",
   "metadata": {},
   "source": [
    "Hasta ahora hemos visto una forma simple de limpiar nuestro dataframe y codificar las columnas necesarias. Existen técnicas más avanzadas para tratar nuestro dataframe, como generar nuevas variables con PCA o técnicas similares, codificación de fechas, eliminación de outliers, etc. Pero con las técnicas que hemos visto es más que suficiente para poder entrenar algunos modelos de machine learning y entender su funcionamiento"
   ]
  },
  {
   "cell_type": "markdown",
   "metadata": {},
   "source": [
    "En el mundo del aprendizaje automático existen 3 tipos de aprendizajes: supervisado, no supervisado y por refuerzo. Para este taller nos centraremos en el primer tipo de entrenamiento. Este tipo de entrenamiento parte de un conjunto de datos (generalmente estructurado en forma de DataFrame) y trata de predecir un valor. Podemos resolver dos tipos de problemas con estos modelos: regresión, donde tratamos de predecir un número y clasificación, en el que tratamos de predecir un valor discreto, es decir, una clase. Por ejemplo el primer tipo de problema sería predecir el peso de una persona en función de su altura y la segunda predecir si un pasajero del titanic sobrevive o no en función de varias características."
   ]
  },
  {
   "cell_type": "markdown",
   "metadata": {},
   "source": [
    "### 2.1. Entrenamiento regresion <a name=\"regression\"> </a>"
   ]
  },
  {
   "cell_type": "markdown",
   "metadata": {},
   "source": [
    "Comencemos con un problema de regresión. Para ello hemos elegido un dataset de datos sobre el cemento y trataremos de predecir la fuerza de compresión de distintos tipos de cementos en función de varias de sus características"
   ]
  },
  {
   "cell_type": "code",
   "execution_count": 18,
   "metadata": {},
   "outputs": [
    {
     "name": "stdout",
     "output_type": "stream",
     "text": [
      "      Cement  Blast Furnace Slag  Fly Ash  Water  Superplasticizer  \\\n",
      "0      540.0                 0.0      0.0  162.0               2.5   \n",
      "1      540.0                 0.0      0.0  162.0               2.5   \n",
      "2      332.5               142.5      0.0  228.0               0.0   \n",
      "3      332.5               142.5      0.0  228.0               0.0   \n",
      "4      198.6               132.4      0.0  192.0               0.0   \n",
      "...      ...                 ...      ...    ...               ...   \n",
      "1025   276.4               116.0     90.3  179.6               8.9   \n",
      "1026   322.2                 0.0    115.6  196.0              10.4   \n",
      "1027   148.5               139.4    108.6  192.7               6.1   \n",
      "1028   159.1               186.7      0.0  175.6              11.3   \n",
      "1029   260.9               100.5     78.3  200.6               8.6   \n",
      "\n",
      "      Coarse Aggregate  Fine Aggregate  Age  \n",
      "0               1040.0           676.0   28  \n",
      "1               1055.0           676.0   28  \n",
      "2                932.0           594.0  270  \n",
      "3                932.0           594.0  365  \n",
      "4                978.4           825.5  360  \n",
      "...                ...             ...  ...  \n",
      "1025             870.1           768.3   28  \n",
      "1026             817.9           813.4   28  \n",
      "1027             892.4           780.0   28  \n",
      "1028             989.6           788.9   28  \n",
      "1029             864.5           761.5   28  \n",
      "\n",
      "[1030 rows x 8 columns]\n",
      "0       79.99\n",
      "1       61.89\n",
      "2       40.27\n",
      "3       41.05\n",
      "4       44.30\n",
      "        ...  \n",
      "1025    44.28\n",
      "1026    31.18\n",
      "1027    23.70\n",
      "1028    32.77\n",
      "1029    32.40\n",
      "Name: Concrete compressive strength, Length: 1030, dtype: float64\n"
     ]
    }
   ],
   "source": [
    "# EJERCICIO: Leemos el fichero concrete.csv y tomamos como valor a predecir la columna \"Concrete compressive strength\"\n",
    "X = pd.read_csv(\"concrete.csv\")\n",
    "\n",
    "y = X.pop(\"Concrete compressive strength\")\n",
    "\n",
    "print(X)\n",
    "print(y)"
   ]
  },
  {
   "cell_type": "markdown",
   "metadata": {},
   "source": [
    "Existen infinidad de modelos para resolver problemas de regresión, pero vamos centrarnos en el más sencillo: la regresión lineal. Pasemos a la pizarra para ver como funciona este modelo."
   ]
  },
  {
   "cell_type": "markdown",
   "metadata": {},
   "source": [
    "La teoría puede parecer muy complicada, pero para programarlo gracias a la librería de sklearn en pocas lineas podemos entrenar un modelo y realizar predicciones."
   ]
  },
  {
   "cell_type": "code",
   "execution_count": 19,
   "metadata": {},
   "outputs": [
    {
     "data": {
      "text/plain": [
       "0.6155198704142721"
      ]
     },
     "execution_count": 19,
     "metadata": {},
     "output_type": "execute_result"
    }
   ],
   "source": [
    "from sklearn.linear_model import LinearRegression\n",
    "\n",
    "estimador = LinearRegression()\n",
    "\n",
    "estimador.fit(X,y)\n",
    "\n",
    "estimador.score(X,y)"
   ]
  },
  {
   "cell_type": "markdown",
   "metadata": {},
   "source": [
    "Podemos guardar nuestro modelo ya entrenado y leerlo en cualquier momento"
   ]
  },
  {
   "cell_type": "code",
   "execution_count": null,
   "metadata": {},
   "outputs": [],
   "source": [
    "with open('linear_model.pkl', 'wb') as file:\n",
    "    pickle.dump(estimador, file)"
   ]
  },
  {
   "cell_type": "markdown",
   "metadata": {},
   "source": [
    "El número que obtenemos con la función score es la métrica conocida con $R^2$ Esta nos da un valor entre 0 y 1 dependiendo de lo que se acerquen nuestras predicciones al valor real, siendo 0 el peor modelo posible (similar a predecir simplemente la media de los valores a predecir) y 1 el mejor modelo. En nuestro caso 0.6 indica que nuestro modelo no es particularmente bueno."
   ]
  },
  {
   "cell_type": "markdown",
   "metadata": {},
   "source": [
    "Además, alguien puede pensar que estamos haciendo trampa. El modelo ha entrenado con unos datos que ha aprendido y luego estamos pididendole que haga predicciones sobre estos datos, cuando en la vida real nos interesará entrenarlo con unos datos pero luego predecirlo con otros nuevos. En este caso, por ejemplo, dadas unas condiciones de fabricación del cemento determinar si tendrá una fuerza de compresión mayor o menor. \n",
    "\n",
    "Para evitar estas trampas tenemos dos opciones: holdout (o división en entrenamiento y test) o validación cruzada. Para entenderlos mejor de nuevo pasaemos a explicar a la pizarra."
   ]
  },
  {
   "cell_type": "code",
   "execution_count": 116,
   "metadata": {},
   "outputs": [],
   "source": [
    "# Dividimos nuestros datos en 4 conjuntos, dos para entrenar y dos para realizar predicciones\n",
    "X_train, X_test, y_train, y_test = train_test_split(X,y,train_size=0.8)"
   ]
  },
  {
   "cell_type": "code",
   "execution_count": 117,
   "metadata": {},
   "outputs": [
    {
     "data": {
      "text/plain": [
       "0.6578660294248662"
      ]
     },
     "execution_count": 117,
     "metadata": {},
     "output_type": "execute_result"
    }
   ],
   "source": [
    "# Entrenamos nuestro conjunto y sacamos las métricas de evaluación\n",
    "estimador = LinearRegression()\n",
    "estimador.fit(X_train, y_train)\n",
    "estimador.score(X_test,y_test)"
   ]
  },
  {
   "cell_type": "code",
   "execution_count": 119,
   "metadata": {},
   "outputs": [
    {
     "name": "stdout",
     "output_type": "stream",
     "text": [
      "[0.33015205 0.41207076 0.45175533 0.60725028 0.50374183]\n",
      "0.4609940491662864\n"
     ]
    }
   ],
   "source": [
    "# Otra opción es entrenar mediante validación cruzada, especialmente útil para cuando tenemos pocos datos y no podemos\n",
    "# dividir entre train y test\n",
    "estimador = LinearRegression()\n",
    "y_pred = cross_val_predict(estimador,X,y,cv=5)\n",
    "scores = cross_val_score(estimador, X, y, cv=5, scoring='r2')\n",
    "print(scores)\n",
    "print(scores.mean())"
   ]
  },
  {
   "cell_type": "markdown",
   "metadata": {},
   "source": [
    "### 2.2. Entrenamiento clasificacion <a name=\"classification\"> </a>"
   ]
  },
  {
   "cell_type": "markdown",
   "metadata": {},
   "source": [
    "De igual forma, para clasificación tenemos una gran variedad de modelos disponibles pero optaremos de nuevo por el más simple: el regresor logístico. Para ello veamos la explicación en la pizarra."
   ]
  },
  {
   "cell_type": "markdown",
   "metadata": {},
   "source": [
    "Hagamos las transformaciones necesarias sobre nuestro dataset del titanic que vimos en aparatados anteriores"
   ]
  },
  {
   "cell_type": "code",
   "execution_count": 121,
   "metadata": {},
   "outputs": [],
   "source": [
    "X = titanic3.copy()\n",
    "\n",
    "X[\"sex_level\"] = X[\"sex\"].map({\"male\": 0, \"female\": 1})\n",
    "\n",
    "X = pd.get_dummies(X, columns=['embarked_fill'], prefix='embarked', drop_first=True)\n",
    "\n",
    "y = X.pop(\"survived\")\n",
    "X = X.drop([\"name\", \"ticket\", \"sex\"], axis=1)"
   ]
  },
  {
   "cell_type": "code",
   "execution_count": 113,
   "metadata": {},
   "outputs": [
    {
     "data": {
      "text/html": [
       "<div>\n",
       "<style scoped>\n",
       "    .dataframe tbody tr th:only-of-type {\n",
       "        vertical-align: middle;\n",
       "    }\n",
       "\n",
       "    .dataframe tbody tr th {\n",
       "        vertical-align: top;\n",
       "    }\n",
       "\n",
       "    .dataframe thead th {\n",
       "        text-align: right;\n",
       "    }\n",
       "</style>\n",
       "<table border=\"1\" class=\"dataframe\">\n",
       "  <thead>\n",
       "    <tr style=\"text-align: right;\">\n",
       "      <th></th>\n",
       "      <th>pclass</th>\n",
       "      <th>sibsp</th>\n",
       "      <th>parch</th>\n",
       "      <th>age_fill</th>\n",
       "      <th>fare_fill</th>\n",
       "      <th>sex_level</th>\n",
       "      <th>embarked_Q</th>\n",
       "      <th>embarked_S</th>\n",
       "    </tr>\n",
       "  </thead>\n",
       "  <tbody>\n",
       "    <tr>\n",
       "      <th>0</th>\n",
       "      <td>1</td>\n",
       "      <td>0</td>\n",
       "      <td>0</td>\n",
       "      <td>29.000000</td>\n",
       "      <td>211.3375</td>\n",
       "      <td>1</td>\n",
       "      <td>False</td>\n",
       "      <td>True</td>\n",
       "    </tr>\n",
       "    <tr>\n",
       "      <th>1</th>\n",
       "      <td>1</td>\n",
       "      <td>1</td>\n",
       "      <td>2</td>\n",
       "      <td>0.916700</td>\n",
       "      <td>151.5500</td>\n",
       "      <td>0</td>\n",
       "      <td>False</td>\n",
       "      <td>True</td>\n",
       "    </tr>\n",
       "    <tr>\n",
       "      <th>2</th>\n",
       "      <td>1</td>\n",
       "      <td>1</td>\n",
       "      <td>2</td>\n",
       "      <td>2.000000</td>\n",
       "      <td>151.5500</td>\n",
       "      <td>1</td>\n",
       "      <td>False</td>\n",
       "      <td>True</td>\n",
       "    </tr>\n",
       "    <tr>\n",
       "      <th>3</th>\n",
       "      <td>1</td>\n",
       "      <td>1</td>\n",
       "      <td>2</td>\n",
       "      <td>30.000000</td>\n",
       "      <td>151.5500</td>\n",
       "      <td>0</td>\n",
       "      <td>False</td>\n",
       "      <td>True</td>\n",
       "    </tr>\n",
       "    <tr>\n",
       "      <th>4</th>\n",
       "      <td>1</td>\n",
       "      <td>1</td>\n",
       "      <td>2</td>\n",
       "      <td>25.000000</td>\n",
       "      <td>151.5500</td>\n",
       "      <td>1</td>\n",
       "      <td>False</td>\n",
       "      <td>True</td>\n",
       "    </tr>\n",
       "    <tr>\n",
       "      <th>...</th>\n",
       "      <td>...</td>\n",
       "      <td>...</td>\n",
       "      <td>...</td>\n",
       "      <td>...</td>\n",
       "      <td>...</td>\n",
       "      <td>...</td>\n",
       "      <td>...</td>\n",
       "      <td>...</td>\n",
       "    </tr>\n",
       "    <tr>\n",
       "      <th>1304</th>\n",
       "      <td>3</td>\n",
       "      <td>1</td>\n",
       "      <td>0</td>\n",
       "      <td>14.500000</td>\n",
       "      <td>14.4542</td>\n",
       "      <td>1</td>\n",
       "      <td>False</td>\n",
       "      <td>False</td>\n",
       "    </tr>\n",
       "    <tr>\n",
       "      <th>1305</th>\n",
       "      <td>3</td>\n",
       "      <td>1</td>\n",
       "      <td>0</td>\n",
       "      <td>29.881135</td>\n",
       "      <td>14.4542</td>\n",
       "      <td>1</td>\n",
       "      <td>False</td>\n",
       "      <td>False</td>\n",
       "    </tr>\n",
       "    <tr>\n",
       "      <th>1306</th>\n",
       "      <td>3</td>\n",
       "      <td>0</td>\n",
       "      <td>0</td>\n",
       "      <td>26.500000</td>\n",
       "      <td>7.2250</td>\n",
       "      <td>0</td>\n",
       "      <td>False</td>\n",
       "      <td>False</td>\n",
       "    </tr>\n",
       "    <tr>\n",
       "      <th>1307</th>\n",
       "      <td>3</td>\n",
       "      <td>0</td>\n",
       "      <td>0</td>\n",
       "      <td>27.000000</td>\n",
       "      <td>7.2250</td>\n",
       "      <td>0</td>\n",
       "      <td>False</td>\n",
       "      <td>False</td>\n",
       "    </tr>\n",
       "    <tr>\n",
       "      <th>1308</th>\n",
       "      <td>3</td>\n",
       "      <td>0</td>\n",
       "      <td>0</td>\n",
       "      <td>29.000000</td>\n",
       "      <td>7.8750</td>\n",
       "      <td>0</td>\n",
       "      <td>False</td>\n",
       "      <td>True</td>\n",
       "    </tr>\n",
       "  </tbody>\n",
       "</table>\n",
       "<p>1309 rows × 8 columns</p>\n",
       "</div>"
      ],
      "text/plain": [
       "      pclass  sibsp  parch   age_fill  fare_fill  sex_level  embarked_Q  \\\n",
       "0          1      0      0  29.000000   211.3375          1       False   \n",
       "1          1      1      2   0.916700   151.5500          0       False   \n",
       "2          1      1      2   2.000000   151.5500          1       False   \n",
       "3          1      1      2  30.000000   151.5500          0       False   \n",
       "4          1      1      2  25.000000   151.5500          1       False   \n",
       "...      ...    ...    ...        ...        ...        ...         ...   \n",
       "1304       3      1      0  14.500000    14.4542          1       False   \n",
       "1305       3      1      0  29.881135    14.4542          1       False   \n",
       "1306       3      0      0  26.500000     7.2250          0       False   \n",
       "1307       3      0      0  27.000000     7.2250          0       False   \n",
       "1308       3      0      0  29.000000     7.8750          0       False   \n",
       "\n",
       "      embarked_S  \n",
       "0           True  \n",
       "1           True  \n",
       "2           True  \n",
       "3           True  \n",
       "4           True  \n",
       "...          ...  \n",
       "1304       False  \n",
       "1305       False  \n",
       "1306       False  \n",
       "1307       False  \n",
       "1308        True  \n",
       "\n",
       "[1309 rows x 8 columns]"
      ]
     },
     "execution_count": 113,
     "metadata": {},
     "output_type": "execute_result"
    }
   ],
   "source": [
    "X"
   ]
  },
  {
   "cell_type": "markdown",
   "metadata": {},
   "source": [
    "Para que el clasificador pueda entrenar bien deberíamos de tener un balanceo entre las clases. En nuestro caso, que hubiera un número parecido de personas que sobrevivieron y que no. Como este es un ejemplo de prueba no nos importa realmente, pero si fuera nuestro trabajo deberíamos de intentar balancear el dataset. Para ello hay dos técnicas principales:\n",
    "    - Oversampling: Generar nuevos datos de forma artificial para la clase minoritaria. Estos se hace generando valores parecidos a los de la clase que queremos compensar.\n",
    "    - Undersampling: Eliminar datos de la clase mayoritaria hasta que ambas clases tengan una cantidad similar de entradas"
   ]
  },
  {
   "cell_type": "code",
   "execution_count": 122,
   "metadata": {},
   "outputs": [
    {
     "name": "stdout",
     "output_type": "stream",
     "text": [
      "survived\n",
      "0    809\n",
      "1    500\n",
      "Name: count, dtype: int64\n"
     ]
    },
    {
     "data": {
      "image/png": "[encoded data removed]",
      "text/plain": [
       "<Figure size 640x480 with 1 Axes>"
      ]
     },
     "metadata": {},
     "output_type": "display_data"
    }
   ],
   "source": [
    "y.hist()\n",
    "print(y.value_counts())"
   ]
  },
  {
   "cell_type": "markdown",
   "metadata": {},
   "source": [
    "El entrenamiento de un regresor logístico es prácticametne igual que el de un regresor lineal (en cuanto a codigo se refiere)."
   ]
  },
  {
   "cell_type": "code",
   "execution_count": 126,
   "metadata": {},
   "outputs": [
    {
     "name": "stdout",
     "output_type": "stream",
     "text": [
      "0.7900763358778626\n"
     ]
    }
   ],
   "source": [
    "# EJERCICIO\n",
    "# De forma similar al apartado anterior, divide el conjunto de entrenamiento en 4 subconjuntos, entrena un clasificador del tipo LogisticRegression(),\n",
    "# saca las predicciones y obtén el valor de accuracy (porcentaje de acierto)\n",
    "\n",
    "X_train, X_test, y_train, y_test = train_test_split(X,y,train_size=0.8)\n",
    "\n",
    "clasificador = LogisticRegression(max_iter=5000)\n",
    "clasificador.fit(X_train,y_train)\n",
    "\n",
    "y_pred = clasificador.predict(X_test)\n",
    "\n",
    "print(metrics.accuracy_score(y_test,y_pred))"
   ]
  },
  {
   "cell_type": "markdown",
   "metadata": {},
   "source": [
    "Representando nuestras predicciones frente a los valores reales podemos ver en que casos se equivoca más nuestro modelo. A esta representación se le conoce como matriz de confusión."
   ]
  },
  {
   "cell_type": "code",
   "execution_count": 131,
   "metadata": {},
   "outputs": [
    {
     "data": {
      "text/plain": [
       "<Axes: >"
      ]
     },
     "execution_count": 131,
     "metadata": {},
     "output_type": "execute_result"
    },
    {
     "data": {
      "image/png": "[encoded data removed]",
      "text/plain": [
       "<Figure size 640x480 with 2 Axes>"
      ]
     },
     "metadata": {},
     "output_type": "display_data"
    }
   ],
   "source": [
    "df = pd.DataFrame(metrics.confusion_matrix(y_test,y_pred), columns=[\"Muere predicho\",\"Sobrevive predicho\"],index=[\"Muere real\",\"Sobrevive Real\"])\n",
    "sns.heatmap(df, annot=True, fmt=\"d\")"
   ]
  },
  {
   "cell_type": "markdown",
   "metadata": {},
   "source": [
    "Por último, podemos ver los valores que toman los coeficientes del modelo, es decir, a que variable les da más importancia neustro modelo."
   ]
  },
  {
   "cell_type": "code",
   "execution_count": 98,
   "metadata": {},
   "outputs": [
    {
     "name": "stdout",
     "output_type": "stream",
     "text": [
      "      Feature  Coefficient\n",
      "5   sex_level     2.499002\n",
      "0      pclass    -0.985955\n",
      "7  embarked_S    -0.519397\n",
      "6  embarked_Q    -0.399563\n",
      "1       sibsp    -0.227052\n",
      "2       parch    -0.036798\n",
      "3    age_fill    -0.033611\n",
      "4   fare_fill     0.001191\n"
     ]
    }
   ],
   "source": [
    "features = np.asarray(X_train.columns)\n",
    "\n",
    "coefficients = clasificador.coef_\n",
    "\n",
    "coef_df = pd.DataFrame({'Feature': features, 'Coefficient': coefficients[0]})\n",
    "\n",
    "# Ordenar por la magnitud de los coeficientes\n",
    "coef_df['Absolute Coefficient'] = coef_df['Coefficient'].abs()\n",
    "coef_df = coef_df.sort_values(by='Absolute Coefficient', ascending=False)\n",
    "\n",
    "# Mostrar los coeficientes de manera legible\n",
    "print(coef_df[['Feature', 'Coefficient']])"
   ]
  }
 ],
 "metadata": {
  "kernelspec": {
   "display_name": "Python 3",
   "language": "python",
   "name": "python3"
  },
  "language_info": {
   "codemirror_mode": {
    "name": "ipython",
    "version": 3
   },
   "file_extension": ".py",
   "mimetype": "text/x-python",
   "name": "python",
   "nbconvert_exporter": "python",
   "pygments_lexer": "ipython3",
   "version": "3.11.9"
  }
 },
 "nbformat": 4,
 "nbformat_minor": 2
}
