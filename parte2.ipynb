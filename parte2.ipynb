{
 "cells": [
  {
   "cell_type": "markdown",
   "metadata": {},
   "source": [
    "# ¿Qué es Gradio?\n",
    "\n",
    "Gradio es una biblioteca de Python que permite crear interfaces web interactivas para modelos de Machine Learning, funciones de datos y otras aplicaciones con pocas líneas de código. Es ideal para prototipar y compartir tus modelos de manera rápida y eficiente.\n"
   ]
  },
  {
   "cell_type": "markdown",
   "metadata": {},
   "source": [
    "# ¿Por qué usar Gradio?\n",
    "\n",
    "- Simplicidad: Puedes construir interfacez funcionales con pocas líneas de código, y no requiere de conocimientos en desarrollo web.\n",
    "\n",
    "- Soporte versátil: Soporta múltiples tipos de inputs/outputs. Como Texto, imágenes, Audio, Video, DataFrames, etc.\n",
    "\n",
    "- Integración sencilla: Compatible con frameworks populares como TensorFlow, PyTorch y Sklearn.\n",
    "\n",
    "\n",
    "- Compartir con facilidad: Genera enlaces públicos mediante HuggingFace para compartir tu aplicación sin configuraciones complejas.\n",
    "\n",
    "- Flexible: Ideal tanto para prototipos rápidos como para aplicaciones más elaboradas.\n"
   ]
  },
  {
   "cell_type": "markdown",
   "metadata": {},
   "source": [
    "# ¿Cómo instalar e importar Gradio?"
   ]
  },
  {
   "cell_type": "code",
   "execution_count": null,
   "metadata": {},
   "outputs": [],
   "source": [
    "%pip install gradio"
   ]
  },
  {
   "cell_type": "code",
   "execution_count": 4,
   "metadata": {},
   "outputs": [],
   "source": [
    "import gradio as gr \n",
    "import numpy as np\n",
    "import pandas as pd\n",
    "import pickle"
   ]
  },
  {
   "cell_type": "markdown",
   "metadata": {},
   "source": [
    "# Enfoques de Gradio para Construir Interfaces de Usuario\n",
    "\n",
    "Gradio ofrece dos enfoques principales para construir interfaces de usuario: `gr.Interface` y `gr.Blocks`, cada uno con diferentes niveles de control y complejidad.\n",
    "\n",
    "1. `gr.Interface`\n",
    "- **Sencillo y fácil de usar**\n",
    "- Ideal para demos rápidas o prototipos\n",
    "- Menos código necesario\n",
    "- Estructura predefinida, con control limitado sobre el diseño y flujo de datos\n",
    "- Solo defines los componentes de entrada y salida, y Gradio organiza automáticamente el diseño básico\n",
    "\n",
    "2. `gr.Blocks`\n",
    "- **Control total sobre el diseño**\n",
    "- Permite construir interacciones personalizadas y flujos de trabajo complejos\n",
    "- Requiere más conocimiento de Gradio y más código\n",
    "- Ideal para interfaces más avanzadas y aplicaciones interactivas"
   ]
  },
  {
   "cell_type": "markdown",
   "metadata": {},
   "source": [
    "## gr.Interface\n",
    "\n",
    "Es una abstracción de alto nivel en Gradio que te permite crear rápidamente una demo para cualquier función de Python, simplemente especificando los tipos de entrada y los tipos de salida.\n",
    "\n"
   ]
  },
  {
   "cell_type": "code",
   "execution_count": null,
   "metadata": {},
   "outputs": [],
   "source": [
    "def greet(name, intensity):\n",
    "    return \"Hello, \" + name + \"!\" * int(intensity)\n",
    "\n",
    "demo = gr.Interface(\n",
    "    fn=greet,\n",
    "    inputs=[\"text\", \"slider\"],\n",
    "    outputs=[\"text\"],\n",
    ")\n",
    "\n",
    "demo.launch()"
   ]
  },
  {
   "cell_type": "markdown",
   "metadata": {},
   "source": [
    "- `fn`: la función que envuelves con la interfaz de usuario (UI).\n",
    "\n",
    "- `inputs`: los componentes de Gradio que se utilizarán para la entrada. El número de componentes debe coincidir con el número de argumentos de tu función.\n",
    "\n",
    "- `outputs`: los componentes de Gradio que se utilizarán para la salida. El número de componentes debe coincidir con el número de valores de retorno de tu función.\n"
   ]
  },
  {
   "cell_type": "markdown",
   "metadata": {},
   "source": [
    "### Componentes de Entrada y Salida en Gradio\n",
    "\n",
    "Entrada:\n",
    "- **Texto**: Caja de texto para entrada libre (gr.Textbox)\n",
    "- **Número**: Control deslizante para entrada numérica (gr.Slider) o caja de texto para números (gr.Number)\n",
    "- **Checkbox**: Casillas para selección booleana o categórica (gr.Checkbox, gr.Radio)\n",
    "- **Dropdown**: Menú desplegable para seleccionar opciones (gr.Dropdown)\n",
    "- **Imagen**: Subida de imágenes (gr.Image)\n",
    "  - Array Numpy con dimensiones (alto, ancho, 3).\n",
    "  - Usa `type=\"filepath\"` para recibir una ruta de archivo\n",
    "- **Audio**: Subida de archivos de audio (gr.Audio)\n",
    "- **Video**: Subida de archivos de video (gr.Video)\n",
    "\n",
    "Salida:\n",
    "- **Texto**: Muestra texto plano (gr.Text)\n",
    "- **Etiqueta**: Muestra texto con formato adicional (gr.Label)\n",
    "- **Imagen**: Muestra imágenes (gr.Image, gr.Gallery)\n",
    "- **Gráfico**: Genera gráficos de líneas, dispersión, calor, etc. (gr.Plot)\n",
    "- **Audio**: Reproduce audio (gr.Audio)\n",
    "- **HTML**: Muestra contenido HTML (gr.HTML)\n",
    "\n",
    "\n"
   ]
  },
  {
   "cell_type": "markdown",
   "metadata": {},
   "source": [
    "### Ejercicio:\n",
    "\n",
    "Crea tu propia calculadora básica utilizando gr.Interface. Utiliza la imagen a continuación como referencia para la funcionalidad de tu interfaz.\n",
    "\n",
    "Como ayuda, te proporcionamos una función `calculadora` que, al recibir dos números y una operación matemática, devuelve el resultado correspondiente.\n",
    "\n",
    "![ej1-gradio.png](images/ej1-gradio.png)\n",
    "\n",
    "\n"
   ]
  },
  {
   "cell_type": "code",
   "execution_count": 23,
   "metadata": {},
   "outputs": [],
   "source": [
    "def calculadora(num1, operacion, num2):\n",
    "    if operacion == \"sumar\":\n",
    "        return num1 + num2\n",
    "    elif operacion == \"restar\":\n",
    "        return num1 - num2\n",
    "    elif operacion == \"multiplicar\":\n",
    "        return num1 * num2\n",
    "    elif operacion == \"dividir\":\n",
    "        if num2 == 0:\n",
    "            raise gr.Error(\"¡No se puede dividir por cero!\")\n",
    "        return num1 / num2\n",
    "\n",
    "\n",
    "# ESCRIBE TU CÓDIGO AQUÍ"
   ]
  },
  {
   "cell_type": "markdown",
   "metadata": {},
   "source": [
    "**Pulsa dos veces aquí para ver la solución**\n",
    "<!-- \n",
    "\n",
    "\n",
    "demo = gr.Interface(\n",
    "    calculadora,\n",
    "    [\n",
    "        gr.Number(), \n",
    "        gr.Radio([\"sumar\", \"restar\", \"multiplicar\", \"dividir\"]),\n",
    "        gr.Number()\n",
    "    ],\n",
    "    gr.Number(),\n",
    "    title=\"Calculadora de juguete\",\n",
    "    description=\"Permite realizar cálculos como 3+2=5\",\n",
    ")\n",
    "\n",
    "demo.launch()\n",
    "-->\n"
   ]
  },
  {
   "cell_type": "markdown",
   "metadata": {},
   "source": [
    "### Componentes adicionales en Gradio\n",
    "\n",
    "\n",
    "- **Archivo**: Subida de cualquier tipo de archivo (gr.File)\n",
    "- **Código**: Muestra y permite editar fragmentos de código (gr.Code)\n",
    "- **JSON**: Muestra y permite editar datos JSON (gr.JSON)\n",
    "- **Galería**: Muestra imágenes o videos en una cuadrícula, con opción de visualización a alta resolución (gr.Gallery)\n",
    "- **DataFrame**: Muestra una tabla de valores, similar a una hoja de cálculo, para entrada o salida de datos (gr.DataFrame)\n"
   ]
  },
  {
   "cell_type": "markdown",
   "metadata": {},
   "source": [
    "# Agregar ejemplos en Gradio​\n",
    "\n",
    "Puedes proporcionar datos de ejemplo que los usuarios pueden cargar fácilmente en la interfaz. Esto es útil para mostrar los tipos de entradas que el modelo espera y explorar tu conjunto de datos junto con el modelo.​"
   ]
  },
  {
   "cell_type": "code",
   "execution_count": 2,
   "metadata": {},
   "outputs": [
    {
     "name": "stderr",
     "output_type": "stream",
     "text": [
      "c:\\Users\\PC\\Documents\\charla-10-12-2024\\.venv\\lib\\site-packages\\tqdm\\auto.py:21: TqdmWarning: IProgress not found. Please update jupyter and ipywidgets. See https://ipywidgets.readthedocs.io/en/stable/user_install.html\n",
      "  from .autonotebook import tqdm as notebook_tqdm\n"
     ]
    },
    {
     "name": "stdout",
     "output_type": "stream",
     "text": [
      "* Running on local URL:  http://127.0.0.1:7860\n",
      "\n",
      "To create a public link, set `share=True` in `launch()`.\n"
     ]
    },
    {
     "data": {
      "text/html": [
       "<div><iframe src=\"http://127.0.0.1:7860/\" width=\"100%\" height=\"500\" allow=\"autoplay; camera; microphone; clipboard-read; clipboard-write;\" frameborder=\"0\" allowfullscreen></iframe></div>"
      ],
      "text/plain": [
       "<IPython.core.display.HTML object>"
      ]
     },
     "metadata": {},
     "output_type": "display_data"
    },
    {
     "data": {
      "text/plain": []
     },
     "execution_count": 2,
     "metadata": {},
     "output_type": "execute_result"
    }
   ],
   "source": [
    "import gradio as gr \n",
    "def greet(name, intensity):\n",
    "    return \"Hello, \" + name + \"!\" * int(intensity)\n",
    "\n",
    "demo = gr.Interface(\n",
    "    fn=greet,\n",
    "    inputs=[\"text\", \"slider\"],\n",
    "    outputs=[\"text\"],\n",
    "    # Añadir ejemplos\n",
    "    examples=[\n",
    "        [\"Alice\", 3],  \n",
    "        [\"Bob\", 5],   \n",
    "        [\"Charlie\", 1],\n",
    "        [\"Dana\", 7],\n",
    "    ],\n",
    "  \n",
    ")\n",
    "\n",
    "demo.launch()"
   ]
  },
  {
   "cell_type": "markdown",
   "metadata": {},
   "source": [
    "### Ejercicio:\n",
    "\n",
    "Añade ejemplos predefinidos a tu calculadora de juguete. Proporciona algunos casos de prueba que el usuario pueda seleccionar para realizar cálculos rápidamente.\n",
    "\n",
    "![ej2-gradio.png](images/ej2-gradio.png)\n"
   ]
  },
  {
   "cell_type": "code",
   "execution_count": 27,
   "metadata": {},
   "outputs": [
    {
     "name": "stdout",
     "output_type": "stream",
     "text": [
      "* Running on local URL:  http://127.0.0.1:7883\n",
      "\n",
      "To create a public link, set `share=True` in `launch()`.\n"
     ]
    },
    {
     "data": {
      "text/html": [
       "<div><iframe src=\"http://127.0.0.1:7883/\" width=\"100%\" height=\"500\" allow=\"autoplay; camera; microphone; clipboard-read; clipboard-write;\" frameborder=\"0\" allowfullscreen></iframe></div>"
      ],
      "text/plain": [
       "<IPython.core.display.HTML object>"
      ]
     },
     "metadata": {},
     "output_type": "display_data"
    },
    {
     "data": {
      "text/plain": []
     },
     "execution_count": 27,
     "metadata": {},
     "output_type": "execute_result"
    }
   ],
   "source": [
    "def calculadora(num1, operacion, num2):\n",
    "    if operacion == \"sumar\":\n",
    "        return num1 + num2\n",
    "    elif operacion == \"restar\":\n",
    "        return num1 - num2\n",
    "    elif operacion == \"multiplicar\":\n",
    "        return num1 * num2\n",
    "    elif operacion == \"dividir\":\n",
    "        if num2 == 0:\n",
    "            raise gr.Error(\"¡No se puede dividir por cero!\")\n",
    "        return num1 / num2\n",
    "\n",
    "\n",
    "demo = gr.Interface(\n",
    "    calculadora,\n",
    "    [\n",
    "        gr.Number(), \n",
    "        gr.Radio([\"sumar\", \"restar\", \"multiplicar\", \"dividir\"]),\n",
    "        gr.Number()\n",
    "    ],\n",
    "    gr.Number(),\n",
    "    title=\"Calculadora de juguete\",\n",
    "    description=\"Permite realizar cálculos como 3+2=5\",\n",
    "    # Añade a esta interfaz los ejemplos\n",
    ")\n",
    "\n",
    "demo.launch()"
   ]
  },
  {
   "cell_type": "markdown",
   "metadata": {},
   "source": [
    "**Pulsa dos veces para ver la solución**\n",
    "\n",
    "\n",
    "<!-- \n",
    "\n",
    "def calculadora(num1, operacion, num2):\n",
    "    if operacion == \"sumar\":\n",
    "        return num1 + num2\n",
    "    elif operacion == \"restar\":\n",
    "        return num1 - num2\n",
    "    elif operacion == \"multiplicar\":\n",
    "        return num1 * num2\n",
    "    elif operacion == \"dividir\":\n",
    "        if num2 == 0:\n",
    "            raise gr.Error(\"¡No se puede dividir por cero!\")\n",
    "        return num1 / num2\n",
    "\n",
    "demo = gr.Interface(\n",
    "    calculadora,\n",
    "    [\n",
    "        gr.Number(), \n",
    "        gr.Radio([\"sumar\", \"restar\", \"multiplicar\", \"dividir\"]),\n",
    "        gr.Number()\n",
    "    ],\n",
    "    gr.Number(),\n",
    "    title=\"Calculadora de juguete\",\n",
    "    description=\"Permite realizar cálculos como 3+2=5\",\n",
    "    examples = [\n",
    "            [5, \"sumar\", 3],\n",
    "            [4, \"dividir\", 2],\n",
    "            [-4, \"multiplicar\", 2.5],\n",
    "            [0, \"restar\", 1.2],\n",
    "        ]\n",
    ")\n",
    "\n",
    "demo.launch() \n",
    "\n",
    "-->"
   ]
  },
  {
   "cell_type": "markdown",
   "metadata": {},
   "source": [
    "## gr.Blocks\n",
    "\n",
    "Es una abstracción de alto nivel en Gradio que te permite crear rápidamente una demo para cualquier función de Python, simplemente especificando los tipos de entrada y los tipos de salida.​"
   ]
  },
  {
   "cell_type": "code",
   "execution_count": 6,
   "metadata": {},
   "outputs": [
    {
     "name": "stdout",
     "output_type": "stream",
     "text": [
      "* Running on local URL:  http://127.0.0.1:7864\n",
      "\n",
      "To create a public link, set `share=True` in `launch()`.\n"
     ]
    },
    {
     "data": {
      "text/html": [
       "<div><iframe src=\"http://127.0.0.1:7864/\" width=\"100%\" height=\"500\" allow=\"autoplay; camera; microphone; clipboard-read; clipboard-write;\" frameborder=\"0\" allowfullscreen></iframe></div>"
      ],
      "text/plain": [
       "<IPython.core.display.HTML object>"
      ]
     },
     "metadata": {},
     "output_type": "display_data"
    },
    {
     "data": {
      "text/plain": []
     },
     "execution_count": 6,
     "metadata": {},
     "output_type": "execute_result"
    }
   ],
   "source": [
    "# Código hecho haciendo uso de gr.Interface\n",
    "import gradio as gr \n",
    "def greet(name, intensity):\n",
    "    return \"Hello, \" + name + \"!\" * int(intensity)\n",
    "\n",
    "demo = gr.Interface(\n",
    "    fn=greet,\n",
    "    inputs=[\"text\", \"slider\"],\n",
    "    outputs=[\"text\"]\n",
    ")\n",
    "\n",
    "demo.launch()"
   ]
  },
  {
   "cell_type": "code",
   "execution_count": null,
   "metadata": {},
   "outputs": [
    {
     "name": "stdout",
     "output_type": "stream",
     "text": [
      "* Running on local URL:  http://127.0.0.1:7877\n",
      "\n",
      "To create a public link, set `share=True` in `launch()`.\n"
     ]
    },
    {
     "data": {
      "text/html": [
       "<div><iframe src=\"http://127.0.0.1:7877/\" width=\"100%\" height=\"500\" allow=\"autoplay; camera; microphone; clipboard-read; clipboard-write;\" frameborder=\"0\" allowfullscreen></iframe></div>"
      ],
      "text/plain": [
       "<IPython.core.display.HTML object>"
      ]
     },
     "metadata": {},
     "output_type": "display_data"
    },
    {
     "data": {
      "text/plain": []
     },
     "execution_count": 19,
     "metadata": {},
     "output_type": "execute_result"
    }
   ],
   "source": [
    "# Código hecho haciendo uso de gr.Blocks\n",
    "\n",
    "def greet(name, intensity):\n",
    "    return \"Hello, \" + name + \"!\" * int(intensity)\n",
    "\n",
    "with gr.Blocks() as demo:\n",
    "    with gr.Row():\n",
    "        # Columna para los inputs y botones\n",
    "        with gr.Column():\n",
    "            name_input = gr.Textbox(label=\"Name\")\n",
    "            intensity_input = gr.Slider(minimum=1, maximum=100, step=1, label=\"Intensity\")\n",
    "\n",
    "            with gr.Row():\n",
    "                clear_button = gr.Button(\"Clear\")\n",
    "                submit_button = gr.Button(\"Submit\")\n",
    "                \n",
    "        \n",
    "        # Columna para el output\n",
    "        with gr.Column():\n",
    "            output_text = gr.Textbox(label=\"Greeting\")\n",
    "    \n",
    "    # Definir las acciones\n",
    "    submit_button.click(fn=greet, inputs=[name_input, intensity_input], outputs=output_text)\n",
    "    clear_button.click(fn=lambda: [None,None,None], inputs=[], outputs=[name_input, intensity_input, output_text])\n",
    "\n",
    "demo.launch()"
   ]
  },
  {
   "cell_type": "markdown",
   "metadata": {},
   "source": [
    "### Columnas y jerarquización​\n",
    "\n",
    "Los components dentro de un gr.Column se alinean verticalmente uno sobre otro.​\n",
    "\n",
    "Para layouts más complejos, las columnas suelen anidarse dentro de gr.Row, logrando estructuras horizontales y flexibles."
   ]
  },
  {
   "cell_type": "code",
   "execution_count": 32,
   "metadata": {},
   "outputs": [
    {
     "name": "stdout",
     "output_type": "stream",
     "text": [
      "* Running on local URL:  http://127.0.0.1:7888\n",
      "\n",
      "To create a public link, set `share=True` in `launch()`.\n"
     ]
    },
    {
     "data": {
      "text/html": [
       "<div><iframe src=\"http://127.0.0.1:7888/\" width=\"100%\" height=\"500\" allow=\"autoplay; camera; microphone; clipboard-read; clipboard-write;\" frameborder=\"0\" allowfullscreen></iframe></div>"
      ],
      "text/plain": [
       "<IPython.core.display.HTML object>"
      ]
     },
     "metadata": {},
     "output_type": "display_data"
    },
    {
     "data": {
      "text/plain": []
     },
     "execution_count": 32,
     "metadata": {},
     "output_type": "execute_result"
    }
   ],
   "source": [
    "with gr.Blocks() as demo:\n",
    "    with gr.Row():\n",
    "        text1 = gr.Textbox(label=\"t1\")\n",
    "        slider2 = gr.Textbox(label=\"s2\")\n",
    "        drop3 = gr.Dropdown([\"a\", \"b\", \"c\"], label=\"d3\")\n",
    "    with gr.Row():\n",
    "        with gr.Column(scale=1, min_width=600):\n",
    "            text1 = gr.Textbox(label=\"prompt 1\")\n",
    "            text2 = gr.Textbox(label=\"prompt 2\")\n",
    "            inbtw = gr.Button(\"Between\")\n",
    "            text4 = gr.Textbox(label=\"prompt 1\")\n",
    "            text5 = gr.Textbox(label=\"prompt 2\")\n",
    "        with gr.Column(scale=2, min_width=600):\n",
    "            img1 = gr.Image(\"images/cheetah.jpg\")\n",
    "            btn = gr.Button(\"Go\")\n",
    "\n",
    "demo.launch()"
   ]
  },
  {
   "cell_type": "markdown",
   "metadata": {},
   "source": [
    "### Entradas de una función mediante listas o diccionarios​\n",
    "\n",
    "Al definir funciones que toman múltiples entradas en Gradio, puedes elegir cómo manejar los valores:​​\n",
    "\n",
    "1. Como una lista de argumentos.​\n",
    "\n",
    "2. Como un único diccionario de valores (clave: componente)."
   ]
  },
  {
   "cell_type": "code",
   "execution_count": 33,
   "metadata": {},
   "outputs": [
    {
     "name": "stdout",
     "output_type": "stream",
     "text": [
      "* Running on local URL:  http://127.0.0.1:7889\n",
      "\n",
      "To create a public link, set `share=True` in `launch()`.\n"
     ]
    },
    {
     "data": {
      "text/html": [
       "<div><iframe src=\"http://127.0.0.1:7889/\" width=\"100%\" height=\"500\" allow=\"autoplay; camera; microphone; clipboard-read; clipboard-write;\" frameborder=\"0\" allowfullscreen></iframe></div>"
      ],
      "text/plain": [
       "<IPython.core.display.HTML object>"
      ]
     },
     "metadata": {},
     "output_type": "display_data"
    },
    {
     "data": {
      "text/plain": []
     },
     "execution_count": 33,
     "metadata": {},
     "output_type": "execute_result"
    }
   ],
   "source": [
    "with gr.Blocks() as demo:\n",
    "    a = gr.Number(label=\"a\")\n",
    "    b = gr.Number(label=\"b\")\n",
    "    with gr.Row():\n",
    "        add_btn = gr.Button(\"Sumar\")\n",
    "        sub_btn = gr.Button(\"Restar\")\n",
    "    c = gr.Number(label=\"Resultado\")\n",
    "\n",
    "    # Usando Lista de Argumentos\n",
    "    def add(num1, num2):\n",
    "        return num1 + num2\n",
    "    add_btn.click(add, inputs=[a, b], outputs=c)\n",
    "\n",
    "    # Usando Diccionario de Valores\n",
    "    def sub(data):\n",
    "        return data[a] - data[b]\n",
    "    sub_btn.click(sub, inputs={a, b}, outputs=c)\n",
    "\n",
    "demo.launch()"
   ]
  },
  {
   "cell_type": "markdown",
   "metadata": {},
   "source": [
    "### Eventos y métodos en componentes de Gradio\n",
    "\n",
    "Los eventos en Gradio son acciones del usuario (como clics, cambios de valores, o envío de datos) que desencadenan funciones personalizadas, permitiendo que la interfaz sea interactiva y dinámica.​\n",
    "\n",
    "#### .click()\n",
    "\n",
    "- **Descripción**: Responde a clics del usuario.\n",
    "- **Uso típico**: Botones\n",
    "- **Ejemplo**:\n",
    "\n",
    "```python\n",
    "boton.click(fn=accion, inputs=None, outputs=salida)\n",
    "```\n",
    "\n",
    "#### .change()\n",
    "\n",
    "- **Descripción**: Detecta cambios en los valores de un componente.\n",
    "- **Uso típico**: Textbox, Dropdown, Slider, Checkbox.\n",
    "- **Ejemplo**:\n",
    "\n",
    "```python\n",
    "slider.change(fn=actualizar, inputs=slider, outputs=resultado)\n",
    "```\n",
    "\n",
    "#### .update()\n",
    "\n",
    "- **Descripción**: Permite modificar dinámicamente propiedades del componente como valor, visibilidad o habilitación.\n",
    "- **Uso típico**: Compatible con todos los componentes.\n",
    "- **Ejemplo**:\n",
    "\n",
    "```python\n",
    "componente.update(value=\"Nuevo valor\", visible=True)\n",
    "```\n",
    "\n",
    "#### .submit()\n",
    "\n",
    "- **Descripción**: Maneja envíos de datos, generalmente con la tecla Enter en componentes de entrada.\n",
    "- **Uso típico**: Textbox, Formularios.\n",
    "- **Ejemplo**:\n",
    "\n",
    "```python\n",
    "textbox.submit(fn=procesar_texto, inputs=textbox, outputs=resultado)\n",
    "```"
   ]
  },
  {
   "attachments": {
    "ej1-gradio.png": {
     "image/png": "[encoded data removed]"
    }
   },
   "cell_type": "markdown",
   "metadata": {},
   "source": [
    "### Ejercicio\n",
    "\n",
    "Construye la misma calculadora de juguete, pero en lugar de usar gr.Interface usar gr.Blocks.\n",
    "Sin ejemplos.\n",
    "\n",
    "![ej1-gradio.png](attachment:ej1-gradio.png)"
   ]
  },
  {
   "cell_type": "code",
   "execution_count": null,
   "metadata": {},
   "outputs": [],
   "source": [
    "def calculadora(num1, operacion, num2):\n",
    "    if operacion == \"sumar\":\n",
    "        return num1 + num2\n",
    "    elif operacion == \"restar\":\n",
    "        return num1 - num2\n",
    "    elif operacion == \"multiplicar\":\n",
    "        return num1 * num2\n",
    "    elif operacion == \"dividir\":\n",
    "        if num2 == 0:\n",
    "            raise gr.Error(\"¡No se puede dividir por cero!\")\n",
    "        return num1 / num2\n",
    "\n",
    "\n",
    "# Escribe tu código aquí"
   ]
  },
  {
   "cell_type": "markdown",
   "metadata": {},
   "source": [
    "**Pulsa dos veces para ver la solución**\n",
    "\n",
    "<!-- \n",
    "\n",
    "with gr.Blocks() as demo:\n",
    "    with gr.Row():\n",
    "        with gr.Column():\n",
    "            num_1 = gr.Number(value=4, label=\"Número 1\")\n",
    "            operacion = gr.Radio([\"sumar\", \"restar\", \"multiplicar\", \"dividir\"], label=\"Operación\")\n",
    "            num_2 = gr.Number(value=0, label=\"Número 2\")\n",
    "\n",
    "            with gr.Row():\n",
    "                clear_button = gr.Button(value=\"Clear\")\n",
    "                boton_calcular = gr.Button(value=\"Calcular\")\n",
    "        with gr.Column():\n",
    "            resultado = gr.Number(label=\"Resultado\")\n",
    "\n",
    "    boton_calcular.click(\n",
    "        calculadora, inputs=[num_1, operacion, num_2], outputs=[resultado], api_name=False\n",
    "    )\n",
    "\n",
    "    clear_button.click(fn=lambda: [None,None,None,0], inputs=[], outputs=[num_1, operacion, num_2,resultado])\n",
    "\n",
    "\n",
    "    # ejemplos = gr.Examples(\n",
    "    #     examples=[\n",
    "    #         [5, \"sumar\", 3],\n",
    "    #         [4, \"dividir\", 2],\n",
    "    #         [-4, \"multiplicar\", 2.5],\n",
    "    #         [0, \"restar\", 1.2],\n",
    "    #     ],\n",
    "    #     inputs=[num_1, operacion, num_2],\n",
    "    # )\n",
    "\n",
    "if __name__ == \"__main__\":\n",
    "    demo.launch()\n",
    "    \n",
    "-->\n"
   ]
  },
  {
   "cell_type": "markdown",
   "metadata": {},
   "source": [
    "### gr.Tabs\n",
    "\n",
    "- Las pestañas (Tabs) se crean usando el contexto `with gr.Tab('nombre_tab’):`​\n",
    "   \n",
    "- Los componentes dentro de ese contexto aparecen únicamente en la pestaña correspondiente.​\n",
    "\n",
    "- Las pestañas consecutivas se agrupan, permitiendo mostrar solo los componentes de una pestaña seleccionada.​"
   ]
  },
  {
   "cell_type": "code",
   "execution_count": 41,
   "metadata": {},
   "outputs": [
    {
     "name": "stdout",
     "output_type": "stream",
     "text": [
      "* Running on local URL:  http://127.0.0.1:7897\n",
      "\n",
      "To create a public link, set `share=True` in `launch()`.\n"
     ]
    },
    {
     "data": {
      "text/html": [
       "<div><iframe src=\"http://127.0.0.1:7897/\" width=\"100%\" height=\"500\" allow=\"autoplay; camera; microphone; clipboard-read; clipboard-write;\" frameborder=\"0\" allowfullscreen></iframe></div>"
      ],
      "text/plain": [
       "<IPython.core.display.HTML object>"
      ]
     },
     "metadata": {},
     "output_type": "display_data"
    },
    {
     "data": {
      "text/plain": []
     },
     "execution_count": 41,
     "metadata": {},
     "output_type": "execute_result"
    }
   ],
   "source": [
    "def flip_text(x):\n",
    "    return x[::-1]\n",
    "\n",
    "def flip_image(x):\n",
    "    return np.fliplr(x)\n",
    "\n",
    "with gr.Blocks() as demo:\n",
    "    gr.Markdown(\"Flip text or image files using this demo.\")\n",
    "    with gr.Tab(\"Flip Text\"):\n",
    "        text_input = gr.Textbox()\n",
    "        text_output = gr.Textbox()\n",
    "        text_button = gr.Button(\"Flip\")\n",
    "    with gr.Tab(\"Flip Image\"):\n",
    "        with gr.Row():\n",
    "            image_input = gr.Image()\n",
    "            image_output = gr.Image()\n",
    "        image_button = gr.Button(\"Flip\")\n",
    "\n",
    "    text_button.click(flip_text, inputs=text_input, outputs=text_output)\n",
    "    image_button.click(flip_image, inputs=image_input, outputs=image_output)\n",
    "\n",
    "demo.launch()\n"
   ]
  },
  {
   "cell_type": "markdown",
   "metadata": {},
   "source": [
    "# Hot Reloading\n",
    "\n",
    "Si en lugar de un notebook, estuviéramos en un fichero `app.py`. Para ejecutar tu app en tu máquina local de modo que se recargue automáticamente cuando realizas cambios en tu fichero  .py utilizar el siguiente comando:​\n",
    "\n",
    "`gradio app.py`"
   ]
  },
  {
   "cell_type": "markdown",
   "metadata": {},
   "source": [
    "# Compartir tu aplicación Gradio​\n",
    "\n",
    "Existen diversas formas de compartir tu aplicación Gradio. La opción más sencilla es añadir el parámetro share=True dentro de la función launch(), lo que generará un enlace público que estará disponible durante 72 horas, permitiéndote compartirlo de forma rápida y sencilla.​"
   ]
  },
  {
   "cell_type": "code",
   "execution_count": 17,
   "metadata": {},
   "outputs": [
    {
     "name": "stdout",
     "output_type": "stream",
     "text": [
      "* Running on local URL:  http://127.0.0.1:7865\n",
      "\n",
      "Could not create share link. Please check your internet connection or our status page: https://status.gradio.app.\n"
     ]
    },
    {
     "data": {
      "text/html": [
       "<div><iframe src=\"http://127.0.0.1:7865/\" width=\"100%\" height=\"500\" allow=\"autoplay; camera; microphone; clipboard-read; clipboard-write;\" frameborder=\"0\" allowfullscreen></iframe></div>"
      ],
      "text/plain": [
       "<IPython.core.display.HTML object>"
      ]
     },
     "metadata": {},
     "output_type": "display_data"
    },
    {
     "data": {
      "text/plain": []
     },
     "execution_count": 17,
     "metadata": {},
     "output_type": "execute_result"
    }
   ],
   "source": [
    "import numpy as np\n",
    "import gradio as gr\n",
    "\n",
    "def flip_text(x):\n",
    "    return x[::-1]\n",
    "\n",
    "def flip_image(x):\n",
    "    return np.fliplr(x)\n",
    "\n",
    "with gr.Blocks() as demo:\n",
    "    gr.Markdown(\"Flip text or image files using this demo.\")\n",
    "    with gr.Tab(\"Flip Text\"):\n",
    "        text_input = gr.Textbox()\n",
    "        text_output = gr.Textbox()\n",
    "        text_button = gr.Button(\"Flip\")\n",
    "    with gr.Tab(\"Flip Image\"):\n",
    "        with gr.Row():\n",
    "            image_input = gr.Image()\n",
    "            image_output = gr.Image()\n",
    "        image_button = gr.Button(\"Flip\")\n",
    "\n",
    "    text_button.click(flip_text, inputs=text_input, outputs=text_output)\n",
    "    image_button.click(flip_image, inputs=image_input, outputs=image_output)\n",
    "\n",
    "demo.launch(share=True)"
   ]
  },
  {
   "cell_type": "markdown",
   "metadata": {},
   "source": [
    "Otras alternativas incluyen hospedar tu demo de forma permanente en Hugging Face Spaces, convertir tu aplicación en una API para integrarla con otros sistemas o embeberla en una página web utilizando IFrames.​"
   ]
  },
  {
   "cell_type": "markdown",
   "metadata": {},
   "source": [
    "# Cómo aplicar esto a un modelo de Machine Learning\n",
    "\n",
    "En este ejercicio, vamos a crear una interfaz de usuario interactiva utilizando Gradio para nuestro modelo de predicción de supervivencia del Titanic. Ya tenemos el modelo cargado y la función de predicción definida. Tu tarea es completar el código para crear la interfaz de Gradio.\n",
    "\n",
    "Sigue estos pasos:\n",
    "\n",
    "1. Importa la biblioteca Gradio.\n",
    "2. Crea una interfaz Gradio utilizando `gr.Interface()`.\n",
    "3. Define los inputs necesarios (clase, sexo, edad, etc.) utilizando los componentes apropiados de Gradio.\n",
    "4. Establece la función `predict_survival` como la función de predicción.\n",
    "5. Configura la salida para mostrar el resultado de la predicción.\n",
    "6. Añade un título y una descripción a la interfaz.\n",
    "7. Incluye algunos ejemplos predefinidos para que los usuarios puedan probar rápidamente.\n",
    "8. Lanza la interfaz con el método `launch()`.\n",
    "\n",
    "Recuerda que puedes personalizar la apariencia y el comportamiento de la interfaz según tus preferencias. ¡Buena suerte!"
   ]
  },
  {
   "cell_type": "code",
   "execution_count": 16,
   "metadata": {},
   "outputs": [],
   "source": [
    "with open('classification_model.pkl', 'rb') as file:\n",
    "    model = pickle.load(file)\n",
    "\n",
    "def predict_survival(pclass, sex, age, sibsp, parch, fare, embarked):\n",
    "    if age > 100:\n",
    "        raise gr.Error(\"La edad no puede ser mayor a 100 años.\")\n",
    "    \n",
    "    data = pd.DataFrame([[pclass, sibsp, parch, age, fare, sex]],\n",
    "                        columns=['pclass', 'sibsp', 'parch','age_fill', 'fare_fill', 'sex_level'])\n",
    "    data[\"sex_level\"] = data[\"sex_level\"].map({\"male\": 0, \"female\": 1})\n",
    "    data[\"embarked_Q\"] = 1 if embarked == \"Q\" else 0\n",
    "    data[\"embarked_S\"] = 1 if embarked == \"S\" else 0\n",
    "    prediction = model.predict(data)\n",
    "    return \"Sobrevive\" if prediction[0] == 1 else \"No sobrevive\"\n",
    "\n",
    "# Escribe tu código aquí"
   ]
  },
  {
   "cell_type": "markdown",
   "metadata": {},
   "source": [
    "**Pulsa dos veces aquí para ver la solución**\n",
    "\n",
    "\n",
    "<!-- # Cargar el modelo\n",
    "with open('classification_model.pkl', 'rb') as file:\n",
    "    model = pickle.load(file)\n",
    "\n",
    "def predict_survival(pclass, sex, age, sibsp, parch, fare, embarked):\n",
    "    if age > 100:\n",
    "        raise gr.Error(\"La edad no puede ser mayor a 100 años.\")\n",
    "    \n",
    "    data = pd.DataFrame([[pclass, sibsp, parch, age, fare, sex]],\n",
    "                        columns=['pclass', 'sibsp', 'parch','age_fill', 'fare_fill', 'sex_level'])\n",
    "    data[\"sex_level\"] = data[\"sex_level\"].map({\"male\": 0, \"female\": 1})\n",
    "    data[\"embarked_Q\"] = 1 if embarked == \"Q\" else 0\n",
    "    data[\"embarked_S\"] = 1 if embarked == \"S\" else 0\n",
    "    prediction = model.predict(data)\n",
    "    return \"Sobrevive\" if prediction[0] == 1 else \"No sobrevive\"\n",
    "\n",
    "demo = gr.Interface(\n",
    "    fn=predict_survival,\n",
    "    inputs=[\n",
    "        gr.Dropdown([\"1\", \"2\", \"3\"], label=\"Clase\"),\n",
    "        gr.Radio([\"male\", \"female\"], label=\"Sexo\"),\n",
    "        gr.Number(label=\"Edad\", minimum=0, maximum=100),\n",
    "        gr.Slider(0, 8, step=1, label=\"SibSp\"),\n",
    "        gr.Slider(0, 6, step=1, label=\"Parch\"),\n",
    "        gr.Slider(0, 512.3292, label=\"Tarifa\"),\n",
    "        gr.Dropdown([\"Q\", \"S\"], label=\"Puerto de embarque\")\n",
    "    ],\n",
    "    outputs=gr.Text(label=\"Predicción\"),\n",
    "    title=\"Predictor de Supervivencia del Titanic\",\n",
    "    description=\"Ingrese los datos de un pasajero para predecir si sobreviviría o no al hundimiento del Titanic.\",\n",
    "    examples=[\n",
    "        [\"1\", \"female\", 29, 0, 0, 211.3375, \"S\"],  # Ejemplo de superviviente\n",
    "        [\"3\", \"male\", 45, 0, 0, 8.05, \"S\"]  # Ejemplo de no superviviente\n",
    "    ]\n",
    ")\n",
    "\n",
    "demo.launch() -->"
   ]
  }
 ],
 "metadata": {
  "kernelspec": {
   "display_name": ".venv",
   "language": "python",
   "name": "python3"
  },
  "language_info": {
   "codemirror_mode": {
    "name": "ipython",
    "version": 3
   },
   "file_extension": ".py",
   "mimetype": "text/x-python",
   "name": "python",
   "nbconvert_exporter": "python",
   "pygments_lexer": "ipython3",
   "version": "3.10.8"
  }
 },
 "nbformat": 4,
 "nbformat_minor": 2
}
